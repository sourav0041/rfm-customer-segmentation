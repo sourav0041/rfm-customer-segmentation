{
 "cells": [
  {
   "cell_type": "code",
   "execution_count": 1,
   "id": "ac79a4dc",
   "metadata": {},
   "outputs": [],
   "source": [
    "import pandas as pd\n",
    "import seaborn as sns\n",
    "import matplotlib.pyplot as plt\n",
    "import datetime as dt"
   ]
  },
  {
   "cell_type": "code",
   "execution_count": 2,
   "id": "a5356e2b",
   "metadata": {},
   "outputs": [],
   "source": [
    "df=pd.read_excel(\"C:\\\\Users\\\\soura\\\\Downloads\\\\Assignment round PS.xlsx\")"
   ]
  },
  {
   "cell_type": "code",
   "execution_count": 3,
   "id": "73e592bc",
   "metadata": {},
   "outputs": [],
   "source": [
    "df.columns = [i.replace(' ', '_') for i in df.columns]"
   ]
  },
  {
   "cell_type": "code",
   "execution_count": 5,
   "id": "9fafa93f",
   "metadata": {},
   "outputs": [
    {
     "data": {
      "text/html": [
       "<div>\n",
       "<style scoped>\n",
       "    .dataframe tbody tr th:only-of-type {\n",
       "        vertical-align: middle;\n",
       "    }\n",
       "\n",
       "    .dataframe tbody tr th {\n",
       "        vertical-align: top;\n",
       "    }\n",
       "\n",
       "    .dataframe thead th {\n",
       "        text-align: right;\n",
       "    }\n",
       "</style>\n",
       "<table border=\"1\" class=\"dataframe\">\n",
       "  <thead>\n",
       "    <tr style=\"text-align: right;\">\n",
       "      <th></th>\n",
       "      <th>Name</th>\n",
       "      <th>Financial_Status</th>\n",
       "      <th>Paid_at</th>\n",
       "      <th>Fulfillment_Status</th>\n",
       "      <th>Fulfilled_at</th>\n",
       "      <th>Accepts_Marketing</th>\n",
       "      <th>Currency</th>\n",
       "      <th>Subtotal</th>\n",
       "      <th>Shipping</th>\n",
       "      <th>Taxes</th>\n",
       "      <th>...</th>\n",
       "      <th>Tax_2_Name</th>\n",
       "      <th>Tax_2_Value</th>\n",
       "      <th>Tax_3_Name</th>\n",
       "      <th>Tax_3_Value</th>\n",
       "      <th>Tax_4_Name</th>\n",
       "      <th>Tax_4_Value</th>\n",
       "      <th>Tax_5_Name</th>\n",
       "      <th>Tax_5_Value</th>\n",
       "      <th>Phone</th>\n",
       "      <th>Receipt_Number</th>\n",
       "    </tr>\n",
       "  </thead>\n",
       "  <tbody>\n",
       "    <tr>\n",
       "      <th>0</th>\n",
       "      <td>#96568</td>\n",
       "      <td>paid</td>\n",
       "      <td>2020-10-12 14:22:07 +0100</td>\n",
       "      <td>unfulfilled</td>\n",
       "      <td>NaN</td>\n",
       "      <td>no</td>\n",
       "      <td>GBP</td>\n",
       "      <td>9.99</td>\n",
       "      <td>0.0</td>\n",
       "      <td>1.67</td>\n",
       "      <td>...</td>\n",
       "      <td>NaN</td>\n",
       "      <td>NaN</td>\n",
       "      <td>NaN</td>\n",
       "      <td>NaN</td>\n",
       "      <td>NaN</td>\n",
       "      <td>NaN</td>\n",
       "      <td>NaN</td>\n",
       "      <td>NaN</td>\n",
       "      <td>NaN</td>\n",
       "      <td>NaN</td>\n",
       "    </tr>\n",
       "    <tr>\n",
       "      <th>1</th>\n",
       "      <td>#96567</td>\n",
       "      <td>paid</td>\n",
       "      <td>2020-10-12 14:17:46 +0100</td>\n",
       "      <td>unfulfilled</td>\n",
       "      <td>NaN</td>\n",
       "      <td>no</td>\n",
       "      <td>GBP</td>\n",
       "      <td>179.99</td>\n",
       "      <td>0.0</td>\n",
       "      <td>30.00</td>\n",
       "      <td>...</td>\n",
       "      <td>NaN</td>\n",
       "      <td>NaN</td>\n",
       "      <td>NaN</td>\n",
       "      <td>NaN</td>\n",
       "      <td>NaN</td>\n",
       "      <td>NaN</td>\n",
       "      <td>NaN</td>\n",
       "      <td>NaN</td>\n",
       "      <td>NaN</td>\n",
       "      <td>NaN</td>\n",
       "    </tr>\n",
       "    <tr>\n",
       "      <th>2</th>\n",
       "      <td>#96566</td>\n",
       "      <td>paid</td>\n",
       "      <td>2020-10-12 14:11:13 +0100</td>\n",
       "      <td>unfulfilled</td>\n",
       "      <td>NaN</td>\n",
       "      <td>no</td>\n",
       "      <td>GBP</td>\n",
       "      <td>71.99</td>\n",
       "      <td>0.0</td>\n",
       "      <td>12.00</td>\n",
       "      <td>...</td>\n",
       "      <td>NaN</td>\n",
       "      <td>NaN</td>\n",
       "      <td>NaN</td>\n",
       "      <td>NaN</td>\n",
       "      <td>NaN</td>\n",
       "      <td>NaN</td>\n",
       "      <td>NaN</td>\n",
       "      <td>NaN</td>\n",
       "      <td>NaN</td>\n",
       "      <td>NaN</td>\n",
       "    </tr>\n",
       "    <tr>\n",
       "      <th>3</th>\n",
       "      <td>#96566</td>\n",
       "      <td>NaN</td>\n",
       "      <td>NaN</td>\n",
       "      <td>NaN</td>\n",
       "      <td>NaN</td>\n",
       "      <td>NaN</td>\n",
       "      <td>NaN</td>\n",
       "      <td>NaN</td>\n",
       "      <td>NaN</td>\n",
       "      <td>NaN</td>\n",
       "      <td>...</td>\n",
       "      <td>NaN</td>\n",
       "      <td>NaN</td>\n",
       "      <td>NaN</td>\n",
       "      <td>NaN</td>\n",
       "      <td>NaN</td>\n",
       "      <td>NaN</td>\n",
       "      <td>NaN</td>\n",
       "      <td>NaN</td>\n",
       "      <td>NaN</td>\n",
       "      <td>NaN</td>\n",
       "    </tr>\n",
       "    <tr>\n",
       "      <th>4</th>\n",
       "      <td>#96565</td>\n",
       "      <td>paid</td>\n",
       "      <td>2020-10-12 14:05:34 +0100</td>\n",
       "      <td>unfulfilled</td>\n",
       "      <td>NaN</td>\n",
       "      <td>no</td>\n",
       "      <td>GBP</td>\n",
       "      <td>14.99</td>\n",
       "      <td>0.0</td>\n",
       "      <td>2.50</td>\n",
       "      <td>...</td>\n",
       "      <td>NaN</td>\n",
       "      <td>NaN</td>\n",
       "      <td>NaN</td>\n",
       "      <td>NaN</td>\n",
       "      <td>NaN</td>\n",
       "      <td>NaN</td>\n",
       "      <td>NaN</td>\n",
       "      <td>NaN</td>\n",
       "      <td>NaN</td>\n",
       "      <td>NaN</td>\n",
       "    </tr>\n",
       "  </tbody>\n",
       "</table>\n",
       "<p>5 rows × 57 columns</p>\n",
       "</div>"
      ],
      "text/plain": [
       "     Name Financial_Status                    Paid_at Fulfillment_Status  \\\n",
       "0  #96568             paid  2020-10-12 14:22:07 +0100        unfulfilled   \n",
       "1  #96567             paid  2020-10-12 14:17:46 +0100        unfulfilled   \n",
       "2  #96566             paid  2020-10-12 14:11:13 +0100        unfulfilled   \n",
       "3  #96566              NaN                        NaN                NaN   \n",
       "4  #96565             paid  2020-10-12 14:05:34 +0100        unfulfilled   \n",
       "\n",
       "  Fulfilled_at Accepts_Marketing Currency  Subtotal  Shipping  Taxes  ...  \\\n",
       "0          NaN                no      GBP      9.99       0.0   1.67  ...   \n",
       "1          NaN                no      GBP    179.99       0.0  30.00  ...   \n",
       "2          NaN                no      GBP     71.99       0.0  12.00  ...   \n",
       "3          NaN               NaN      NaN       NaN       NaN    NaN  ...   \n",
       "4          NaN                no      GBP     14.99       0.0   2.50  ...   \n",
       "\n",
       "   Tax_2_Name Tax_2_Value  Tax_3_Name Tax_3_Value Tax_4_Name  Tax_4_Value  \\\n",
       "0         NaN         NaN         NaN         NaN        NaN          NaN   \n",
       "1         NaN         NaN         NaN         NaN        NaN          NaN   \n",
       "2         NaN         NaN         NaN         NaN        NaN          NaN   \n",
       "3         NaN         NaN         NaN         NaN        NaN          NaN   \n",
       "4         NaN         NaN         NaN         NaN        NaN          NaN   \n",
       "\n",
       "  Tax_5_Name  Tax_5_Value  Phone Receipt_Number  \n",
       "0        NaN          NaN    NaN            NaN  \n",
       "1        NaN          NaN    NaN            NaN  \n",
       "2        NaN          NaN    NaN            NaN  \n",
       "3        NaN          NaN    NaN            NaN  \n",
       "4        NaN          NaN    NaN            NaN  \n",
       "\n",
       "[5 rows x 57 columns]"
      ]
     },
     "execution_count": 5,
     "metadata": {},
     "output_type": "execute_result"
    }
   ],
   "source": [
    "df.head()"
   ]
  },
  {
   "cell_type": "code",
   "execution_count": 6,
   "id": "173b9590",
   "metadata": {},
   "outputs": [
    {
     "data": {
      "text/plain": [
       "(118900, 57)"
      ]
     },
     "execution_count": 6,
     "metadata": {},
     "output_type": "execute_result"
    }
   ],
   "source": [
    "df.shape"
   ]
  },
  {
   "cell_type": "code",
   "execution_count": 7,
   "id": "6ca227d5",
   "metadata": {
    "scrolled": true
   },
   "outputs": [
    {
     "data": {
      "text/plain": [
       "Name                             0.000000\n",
       "Financial_Status                19.693860\n",
       "Paid_at                         20.965517\n",
       "Fulfillment_Status              19.693860\n",
       "Fulfilled_at                    28.305299\n",
       "Accepts_Marketing               19.693860\n",
       "Currency                        19.693860\n",
       "Subtotal                        19.693860\n",
       "Shipping                        19.693860\n",
       "Taxes                           19.693860\n",
       "Total                           19.693860\n",
       "Discount_Code                   47.829268\n",
       "Discount_Amount                 19.693860\n",
       "Shipping_Method                 19.693860\n",
       "Created_at                       0.000000\n",
       "Lineitem_quantity                0.000000\n",
       "Lineitem_name                    0.000000\n",
       "Lineitem_price                   0.000000\n",
       "Lineitem_compare_at_price       18.240538\n",
       "Lineitem_sku                     0.000000\n",
       "Lineitem_requires_shipping       0.000000\n",
       "Lineitem_taxable                 0.000000\n",
       "Lineitem_fulfillment_status      0.000000\n",
       "Billing_Zip                     19.734230\n",
       "Billing_Province                99.740959\n",
       "Billing_Country                 19.694701\n",
       "Shipping_Zip                    19.693860\n",
       "Shipping_Province              100.000000\n",
       "Shipping_Country                19.693860\n",
       "Notes                           99.973928\n",
       "Note_Attributes                100.000000\n",
       "Cancelled_at                    99.111859\n",
       "Payment_Method                  19.710681\n",
       "Payment_Reference               19.743482\n",
       "Refunded_Amount                 19.693860\n",
       "Vendor                           0.000000\n",
       "Outstanding_Balance             19.693860\n",
       "Employee                        99.999159\n",
       "Location                        99.999159\n",
       "Device_ID                       99.999159\n",
       "Id                              19.693860\n",
       "Tags                            94.105130\n",
       "Risk_Level                      19.693860\n",
       "Source                          19.693860\n",
       "Lineitem_discount                0.000000\n",
       "Tax_1_Name                      19.739277\n",
       "Tax_1_Value                     19.739277\n",
       "Tax_2_Name                     100.000000\n",
       "Tax_2_Value                    100.000000\n",
       "Tax_3_Name                     100.000000\n",
       "Tax_3_Value                    100.000000\n",
       "Tax_4_Name                     100.000000\n",
       "Tax_4_Value                    100.000000\n",
       "Tax_5_Name                     100.000000\n",
       "Tax_5_Value                    100.000000\n",
       "Phone                           95.959630\n",
       "Receipt_Number                 100.000000\n",
       "dtype: float64"
      ]
     },
     "execution_count": 7,
     "metadata": {},
     "output_type": "execute_result"
    }
   ],
   "source": [
    "df.isnull().sum()/len(df)*100"
   ]
  },
  {
   "cell_type": "code",
   "execution_count": 8,
   "id": "d243812d",
   "metadata": {},
   "outputs": [],
   "source": [
    "df.drop(columns=['Billing_Province','Shipping_Province','Notes','Note_Attributes','Cancelled_at','Employee','Location','Device_ID','Tags','Tax_1_Name','Tax_1_Value','Tax_2_Name','Tax_2_Value','Tax_3_Name','Tax_3_Value','Tax_4_Name','Tax_4_Value','Tax_5_Name','Tax_5_Value','Phone','Receipt_Number','Discount_Code'],inplace=True)"
   ]
  },
  {
   "cell_type": "code",
   "execution_count": 9,
   "id": "ee578196",
   "metadata": {},
   "outputs": [
    {
     "data": {
      "text/plain": [
       "Name                            0.000000\n",
       "Financial_Status               19.693860\n",
       "Paid_at                        20.965517\n",
       "Fulfillment_Status             19.693860\n",
       "Fulfilled_at                   28.305299\n",
       "Accepts_Marketing              19.693860\n",
       "Currency                       19.693860\n",
       "Subtotal                       19.693860\n",
       "Shipping                       19.693860\n",
       "Taxes                          19.693860\n",
       "Total                          19.693860\n",
       "Discount_Amount                19.693860\n",
       "Shipping_Method                19.693860\n",
       "Created_at                      0.000000\n",
       "Lineitem_quantity               0.000000\n",
       "Lineitem_name                   0.000000\n",
       "Lineitem_price                  0.000000\n",
       "Lineitem_compare_at_price      18.240538\n",
       "Lineitem_sku                    0.000000\n",
       "Lineitem_requires_shipping      0.000000\n",
       "Lineitem_taxable                0.000000\n",
       "Lineitem_fulfillment_status     0.000000\n",
       "Billing_Zip                    19.734230\n",
       "Billing_Country                19.694701\n",
       "Shipping_Zip                   19.693860\n",
       "Shipping_Country               19.693860\n",
       "Payment_Method                 19.710681\n",
       "Payment_Reference              19.743482\n",
       "Refunded_Amount                19.693860\n",
       "Vendor                          0.000000\n",
       "Outstanding_Balance            19.693860\n",
       "Id                             19.693860\n",
       "Risk_Level                     19.693860\n",
       "Source                         19.693860\n",
       "Lineitem_discount               0.000000\n",
       "dtype: float64"
      ]
     },
     "execution_count": 9,
     "metadata": {},
     "output_type": "execute_result"
    }
   ],
   "source": [
    "df.isnull().sum()/len(df)*100"
   ]
  },
  {
   "cell_type": "code",
   "execution_count": 10,
   "id": "c1e93ce5",
   "metadata": {},
   "outputs": [],
   "source": [
    "df.dropna(subset=['Total'], inplace=True)"
   ]
  },
  {
   "cell_type": "code",
   "execution_count": 11,
   "id": "382bd48a",
   "metadata": {},
   "outputs": [
    {
     "data": {
      "text/plain": [
       "Name                            0.000000\n",
       "Financial_Status                0.000000\n",
       "Paid_at                         1.583511\n",
       "Fulfillment_Status              0.000000\n",
       "Fulfilled_at                   10.723263\n",
       "Accepts_Marketing               0.000000\n",
       "Currency                        0.000000\n",
       "Subtotal                        0.000000\n",
       "Shipping                        0.000000\n",
       "Taxes                           0.000000\n",
       "Total                           0.000000\n",
       "Discount_Amount                 0.000000\n",
       "Shipping_Method                 0.000000\n",
       "Created_at                      0.000000\n",
       "Lineitem_quantity               0.000000\n",
       "Lineitem_name                   0.000000\n",
       "Lineitem_price                  0.000000\n",
       "Lineitem_compare_at_price      18.874366\n",
       "Lineitem_sku                    0.000000\n",
       "Lineitem_requires_shipping      0.000000\n",
       "Lineitem_taxable                0.000000\n",
       "Lineitem_fulfillment_status     0.000000\n",
       "Billing_Zip                     0.050270\n",
       "Billing_Country                 0.001047\n",
       "Shipping_Zip                    0.000000\n",
       "Shipping_Country                0.000000\n",
       "Payment_Method                  0.020946\n",
       "Payment_Reference               0.061790\n",
       "Refunded_Amount                 0.000000\n",
       "Vendor                          0.000000\n",
       "Outstanding_Balance             0.000000\n",
       "Id                              0.000000\n",
       "Risk_Level                      0.000000\n",
       "Source                          0.000000\n",
       "Lineitem_discount               0.000000\n",
       "dtype: float64"
      ]
     },
     "execution_count": 11,
     "metadata": {},
     "output_type": "execute_result"
    }
   ],
   "source": [
    "df.isnull().sum()/len(df)*100"
   ]
  },
  {
   "cell_type": "code",
   "execution_count": 12,
   "id": "4fd1994e",
   "metadata": {},
   "outputs": [
    {
     "data": {
      "text/html": [
       "<div>\n",
       "<style scoped>\n",
       "    .dataframe tbody tr th:only-of-type {\n",
       "        vertical-align: middle;\n",
       "    }\n",
       "\n",
       "    .dataframe tbody tr th {\n",
       "        vertical-align: top;\n",
       "    }\n",
       "\n",
       "    .dataframe thead th {\n",
       "        text-align: right;\n",
       "    }\n",
       "</style>\n",
       "<table border=\"1\" class=\"dataframe\">\n",
       "  <thead>\n",
       "    <tr style=\"text-align: right;\">\n",
       "      <th></th>\n",
       "      <th>Subtotal</th>\n",
       "      <th>Shipping</th>\n",
       "      <th>Taxes</th>\n",
       "      <th>Total</th>\n",
       "      <th>Discount_Amount</th>\n",
       "      <th>Lineitem_quantity</th>\n",
       "      <th>Lineitem_price</th>\n",
       "      <th>Lineitem_compare_at_price</th>\n",
       "      <th>Refunded_Amount</th>\n",
       "      <th>Outstanding_Balance</th>\n",
       "      <th>Id</th>\n",
       "      <th>Lineitem_discount</th>\n",
       "    </tr>\n",
       "  </thead>\n",
       "  <tbody>\n",
       "    <tr>\n",
       "      <th>count</th>\n",
       "      <td>95484.000000</td>\n",
       "      <td>95484.000000</td>\n",
       "      <td>95484.000000</td>\n",
       "      <td>95484.000000</td>\n",
       "      <td>95484.000000</td>\n",
       "      <td>95484.000000</td>\n",
       "      <td>95484.000000</td>\n",
       "      <td>77462.000000</td>\n",
       "      <td>95484.000000</td>\n",
       "      <td>95484.000000</td>\n",
       "      <td>9.548400e+04</td>\n",
       "      <td>95484.0</td>\n",
       "    </tr>\n",
       "    <tr>\n",
       "      <th>mean</th>\n",
       "      <td>58.810728</td>\n",
       "      <td>0.064269</td>\n",
       "      <td>9.809089</td>\n",
       "      <td>58.872480</td>\n",
       "      <td>10.253376</td>\n",
       "      <td>1.027827</td>\n",
       "      <td>55.823520</td>\n",
       "      <td>58.721009</td>\n",
       "      <td>2.973846</td>\n",
       "      <td>0.020297</td>\n",
       "      <td>1.887175e+12</td>\n",
       "      <td>0.0</td>\n",
       "    </tr>\n",
       "    <tr>\n",
       "      <th>std</th>\n",
       "      <td>66.109370</td>\n",
       "      <td>0.829832</td>\n",
       "      <td>11.036311</td>\n",
       "      <td>66.217577</td>\n",
       "      <td>16.057415</td>\n",
       "      <td>0.278898</td>\n",
       "      <td>61.747689</td>\n",
       "      <td>66.924606</td>\n",
       "      <td>22.535037</td>\n",
       "      <td>1.336411</td>\n",
       "      <td>9.049018e+11</td>\n",
       "      <td>0.0</td>\n",
       "    </tr>\n",
       "    <tr>\n",
       "      <th>min</th>\n",
       "      <td>0.000000</td>\n",
       "      <td>0.000000</td>\n",
       "      <td>0.000000</td>\n",
       "      <td>0.000000</td>\n",
       "      <td>0.000000</td>\n",
       "      <td>1.000000</td>\n",
       "      <td>0.000000</td>\n",
       "      <td>0.000000</td>\n",
       "      <td>0.000000</td>\n",
       "      <td>-29.950000</td>\n",
       "      <td>2.739127e+09</td>\n",
       "      <td>0.0</td>\n",
       "    </tr>\n",
       "    <tr>\n",
       "      <th>25%</th>\n",
       "      <td>22.400000</td>\n",
       "      <td>0.000000</td>\n",
       "      <td>3.750000</td>\n",
       "      <td>22.500000</td>\n",
       "      <td>0.000000</td>\n",
       "      <td>1.000000</td>\n",
       "      <td>24.990000</td>\n",
       "      <td>22.990000</td>\n",
       "      <td>0.000000</td>\n",
       "      <td>0.000000</td>\n",
       "      <td>1.691068e+12</td>\n",
       "      <td>0.0</td>\n",
       "    </tr>\n",
       "    <tr>\n",
       "      <th>50%</th>\n",
       "      <td>35.990000</td>\n",
       "      <td>0.000000</td>\n",
       "      <td>6.000000</td>\n",
       "      <td>36.000000</td>\n",
       "      <td>5.990000</td>\n",
       "      <td>1.000000</td>\n",
       "      <td>34.990000</td>\n",
       "      <td>34.990000</td>\n",
       "      <td>0.000000</td>\n",
       "      <td>0.000000</td>\n",
       "      <td>2.133580e+12</td>\n",
       "      <td>0.0</td>\n",
       "    </tr>\n",
       "    <tr>\n",
       "      <th>75%</th>\n",
       "      <td>72.000000</td>\n",
       "      <td>0.000000</td>\n",
       "      <td>12.000000</td>\n",
       "      <td>72.000000</td>\n",
       "      <td>13.990000</td>\n",
       "      <td>1.000000</td>\n",
       "      <td>69.990000</td>\n",
       "      <td>69.990000</td>\n",
       "      <td>0.000000</td>\n",
       "      <td>0.000000</td>\n",
       "      <td>2.600130e+12</td>\n",
       "      <td>0.0</td>\n",
       "    </tr>\n",
       "    <tr>\n",
       "      <th>max</th>\n",
       "      <td>1952.900000</td>\n",
       "      <td>36.000000</td>\n",
       "      <td>325.480000</td>\n",
       "      <td>1952.900000</td>\n",
       "      <td>973.430000</td>\n",
       "      <td>37.000000</td>\n",
       "      <td>949.990000</td>\n",
       "      <td>949.990000</td>\n",
       "      <td>1394.950000</td>\n",
       "      <td>239.880000</td>\n",
       "      <td>2.846770e+12</td>\n",
       "      <td>0.0</td>\n",
       "    </tr>\n",
       "  </tbody>\n",
       "</table>\n",
       "</div>"
      ],
      "text/plain": [
       "           Subtotal      Shipping         Taxes         Total  \\\n",
       "count  95484.000000  95484.000000  95484.000000  95484.000000   \n",
       "mean      58.810728      0.064269      9.809089     58.872480   \n",
       "std       66.109370      0.829832     11.036311     66.217577   \n",
       "min        0.000000      0.000000      0.000000      0.000000   \n",
       "25%       22.400000      0.000000      3.750000     22.500000   \n",
       "50%       35.990000      0.000000      6.000000     36.000000   \n",
       "75%       72.000000      0.000000     12.000000     72.000000   \n",
       "max     1952.900000     36.000000    325.480000   1952.900000   \n",
       "\n",
       "       Discount_Amount  Lineitem_quantity  Lineitem_price  \\\n",
       "count     95484.000000       95484.000000    95484.000000   \n",
       "mean         10.253376           1.027827       55.823520   \n",
       "std          16.057415           0.278898       61.747689   \n",
       "min           0.000000           1.000000        0.000000   \n",
       "25%           0.000000           1.000000       24.990000   \n",
       "50%           5.990000           1.000000       34.990000   \n",
       "75%          13.990000           1.000000       69.990000   \n",
       "max         973.430000          37.000000      949.990000   \n",
       "\n",
       "       Lineitem_compare_at_price  Refunded_Amount  Outstanding_Balance  \\\n",
       "count               77462.000000     95484.000000         95484.000000   \n",
       "mean                   58.721009         2.973846             0.020297   \n",
       "std                    66.924606        22.535037             1.336411   \n",
       "min                     0.000000         0.000000           -29.950000   \n",
       "25%                    22.990000         0.000000             0.000000   \n",
       "50%                    34.990000         0.000000             0.000000   \n",
       "75%                    69.990000         0.000000             0.000000   \n",
       "max                   949.990000      1394.950000           239.880000   \n",
       "\n",
       "                 Id  Lineitem_discount  \n",
       "count  9.548400e+04            95484.0  \n",
       "mean   1.887175e+12                0.0  \n",
       "std    9.049018e+11                0.0  \n",
       "min    2.739127e+09                0.0  \n",
       "25%    1.691068e+12                0.0  \n",
       "50%    2.133580e+12                0.0  \n",
       "75%    2.600130e+12                0.0  \n",
       "max    2.846770e+12                0.0  "
      ]
     },
     "execution_count": 12,
     "metadata": {},
     "output_type": "execute_result"
    }
   ],
   "source": [
    "df.describe()"
   ]
  },
  {
   "cell_type": "code",
   "execution_count": 13,
   "id": "5f6c87e8",
   "metadata": {},
   "outputs": [
    {
     "name": "stdout",
     "output_type": "stream",
     "text": [
      "<class 'pandas.core.frame.DataFrame'>\n",
      "Int64Index: 95484 entries, 0 to 118899\n",
      "Data columns (total 35 columns):\n",
      " #   Column                       Non-Null Count  Dtype  \n",
      "---  ------                       --------------  -----  \n",
      " 0   Name                         95484 non-null  object \n",
      " 1   Financial_Status             95484 non-null  object \n",
      " 2   Paid_at                      93972 non-null  object \n",
      " 3   Fulfillment_Status           95484 non-null  object \n",
      " 4   Fulfilled_at                 85245 non-null  object \n",
      " 5   Accepts_Marketing            95484 non-null  object \n",
      " 6   Currency                     95484 non-null  object \n",
      " 7   Subtotal                     95484 non-null  float64\n",
      " 8   Shipping                     95484 non-null  float64\n",
      " 9   Taxes                        95484 non-null  float64\n",
      " 10  Total                        95484 non-null  float64\n",
      " 11  Discount_Amount              95484 non-null  float64\n",
      " 12  Shipping_Method              95484 non-null  object \n",
      " 13  Created_at                   95484 non-null  object \n",
      " 14  Lineitem_quantity            95484 non-null  float64\n",
      " 15  Lineitem_name                95484 non-null  object \n",
      " 16  Lineitem_price               95484 non-null  float64\n",
      " 17  Lineitem_compare_at_price    77462 non-null  float64\n",
      " 18  Lineitem_sku                 95484 non-null  object \n",
      " 19  Lineitem_requires_shipping   95484 non-null  bool   \n",
      " 20  Lineitem_taxable             95484 non-null  bool   \n",
      " 21  Lineitem_fulfillment_status  95484 non-null  object \n",
      " 22  Billing_Zip                  95436 non-null  object \n",
      " 23  Billing_Country              95483 non-null  object \n",
      " 24  Shipping_Zip                 95484 non-null  object \n",
      " 25  Shipping_Country             95484 non-null  object \n",
      " 26  Payment_Method               95464 non-null  object \n",
      " 27  Payment_Reference            95425 non-null  object \n",
      " 28  Refunded_Amount              95484 non-null  float64\n",
      " 29  Vendor                       95484 non-null  object \n",
      " 30  Outstanding_Balance          95484 non-null  float64\n",
      " 31  Id                           95484 non-null  float64\n",
      " 32  Risk_Level                   95484 non-null  object \n",
      " 33  Source                       95484 non-null  object \n",
      " 34  Lineitem_discount            95484 non-null  float64\n",
      "dtypes: bool(2), float64(12), object(21)\n",
      "memory usage: 25.0+ MB\n"
     ]
    }
   ],
   "source": [
    "df.info()"
   ]
  },
  {
   "cell_type": "code",
   "execution_count": 14,
   "id": "aa8a92f4",
   "metadata": {},
   "outputs": [],
   "source": [
    "df['Lineitem_compare_at_price'].fillna(df['Lineitem_compare_at_price'].median(skipna=True),inplace= True)"
   ]
  },
  {
   "cell_type": "code",
   "execution_count": 15,
   "id": "c684c90c",
   "metadata": {},
   "outputs": [
    {
     "data": {
      "text/plain": [
       "Name                            0.000000\n",
       "Financial_Status                0.000000\n",
       "Paid_at                         1.583511\n",
       "Fulfillment_Status              0.000000\n",
       "Fulfilled_at                   10.723263\n",
       "Accepts_Marketing               0.000000\n",
       "Currency                        0.000000\n",
       "Subtotal                        0.000000\n",
       "Shipping                        0.000000\n",
       "Taxes                           0.000000\n",
       "Total                           0.000000\n",
       "Discount_Amount                 0.000000\n",
       "Shipping_Method                 0.000000\n",
       "Created_at                      0.000000\n",
       "Lineitem_quantity               0.000000\n",
       "Lineitem_name                   0.000000\n",
       "Lineitem_price                  0.000000\n",
       "Lineitem_compare_at_price       0.000000\n",
       "Lineitem_sku                    0.000000\n",
       "Lineitem_requires_shipping      0.000000\n",
       "Lineitem_taxable                0.000000\n",
       "Lineitem_fulfillment_status     0.000000\n",
       "Billing_Zip                     0.050270\n",
       "Billing_Country                 0.001047\n",
       "Shipping_Zip                    0.000000\n",
       "Shipping_Country                0.000000\n",
       "Payment_Method                  0.020946\n",
       "Payment_Reference               0.061790\n",
       "Refunded_Amount                 0.000000\n",
       "Vendor                          0.000000\n",
       "Outstanding_Balance             0.000000\n",
       "Id                              0.000000\n",
       "Risk_Level                      0.000000\n",
       "Source                          0.000000\n",
       "Lineitem_discount               0.000000\n",
       "dtype: float64"
      ]
     },
     "execution_count": 15,
     "metadata": {},
     "output_type": "execute_result"
    }
   ],
   "source": [
    "df.isnull().sum()/len(df)*100"
   ]
  },
  {
   "cell_type": "code",
   "execution_count": 16,
   "id": "b65a8c34",
   "metadata": {},
   "outputs": [],
   "source": [
    "df[['Date','Time','Drop']] = df.Paid_at.str.split(\" \",expand=True)\n",
    "df.drop(columns=['Drop'],inplace=True)"
   ]
  },
  {
   "cell_type": "code",
   "execution_count": 17,
   "id": "74cd0762",
   "metadata": {},
   "outputs": [],
   "source": [
    "df['Date']=pd.to_datetime(df['Date'])\n",
    "df['Date']=df['Date'].dt.strftime('%d-%m-%Y')"
   ]
  },
  {
   "cell_type": "code",
   "execution_count": 18,
   "id": "01ff9dd5",
   "metadata": {},
   "outputs": [],
   "source": [
    "df['Date'].fillna(method='ffill',inplace= True)"
   ]
  },
  {
   "cell_type": "code",
   "execution_count": 19,
   "id": "dec2d82f",
   "metadata": {},
   "outputs": [
    {
     "data": {
      "text/html": [
       "<div>\n",
       "<style scoped>\n",
       "    .dataframe tbody tr th:only-of-type {\n",
       "        vertical-align: middle;\n",
       "    }\n",
       "\n",
       "    .dataframe tbody tr th {\n",
       "        vertical-align: top;\n",
       "    }\n",
       "\n",
       "    .dataframe thead th {\n",
       "        text-align: right;\n",
       "    }\n",
       "</style>\n",
       "<table border=\"1\" class=\"dataframe\">\n",
       "  <thead>\n",
       "    <tr style=\"text-align: right;\">\n",
       "      <th></th>\n",
       "      <th>Name</th>\n",
       "      <th>Financial_Status</th>\n",
       "      <th>Paid_at</th>\n",
       "      <th>Fulfillment_Status</th>\n",
       "      <th>Fulfilled_at</th>\n",
       "      <th>Accepts_Marketing</th>\n",
       "      <th>Currency</th>\n",
       "      <th>Subtotal</th>\n",
       "      <th>Shipping</th>\n",
       "      <th>Taxes</th>\n",
       "      <th>...</th>\n",
       "      <th>Payment_Reference</th>\n",
       "      <th>Refunded_Amount</th>\n",
       "      <th>Vendor</th>\n",
       "      <th>Outstanding_Balance</th>\n",
       "      <th>Id</th>\n",
       "      <th>Risk_Level</th>\n",
       "      <th>Source</th>\n",
       "      <th>Lineitem_discount</th>\n",
       "      <th>Date</th>\n",
       "      <th>Time</th>\n",
       "    </tr>\n",
       "  </thead>\n",
       "  <tbody>\n",
       "    <tr>\n",
       "      <th>0</th>\n",
       "      <td>#96568</td>\n",
       "      <td>paid</td>\n",
       "      <td>2020-10-12 14:22:07 +0100</td>\n",
       "      <td>unfulfilled</td>\n",
       "      <td>NaN</td>\n",
       "      <td>no</td>\n",
       "      <td>GBP</td>\n",
       "      <td>9.99</td>\n",
       "      <td>0.0</td>\n",
       "      <td>1.67</td>\n",
       "      <td>...</td>\n",
       "      <td>c15081125314711.1</td>\n",
       "      <td>0.0</td>\n",
       "      <td>Swan</td>\n",
       "      <td>0.0</td>\n",
       "      <td>2.846770e+12</td>\n",
       "      <td>Low</td>\n",
       "      <td>web</td>\n",
       "      <td>0.0</td>\n",
       "      <td>12-10-2020</td>\n",
       "      <td>14:22:07</td>\n",
       "    </tr>\n",
       "    <tr>\n",
       "      <th>1</th>\n",
       "      <td>#96567</td>\n",
       "      <td>paid</td>\n",
       "      <td>2020-10-12 14:17:46 +0100</td>\n",
       "      <td>unfulfilled</td>\n",
       "      <td>NaN</td>\n",
       "      <td>no</td>\n",
       "      <td>GBP</td>\n",
       "      <td>179.99</td>\n",
       "      <td>0.0</td>\n",
       "      <td>30.00</td>\n",
       "      <td>...</td>\n",
       "      <td>c15081086582935.1</td>\n",
       "      <td>0.0</td>\n",
       "      <td>Swan</td>\n",
       "      <td>0.0</td>\n",
       "      <td>2.846760e+12</td>\n",
       "      <td>Low</td>\n",
       "      <td>web</td>\n",
       "      <td>0.0</td>\n",
       "      <td>12-10-2020</td>\n",
       "      <td>14:17:46</td>\n",
       "    </tr>\n",
       "    <tr>\n",
       "      <th>2</th>\n",
       "      <td>#96566</td>\n",
       "      <td>paid</td>\n",
       "      <td>2020-10-12 14:11:13 +0100</td>\n",
       "      <td>unfulfilled</td>\n",
       "      <td>NaN</td>\n",
       "      <td>no</td>\n",
       "      <td>GBP</td>\n",
       "      <td>71.99</td>\n",
       "      <td>0.0</td>\n",
       "      <td>12.00</td>\n",
       "      <td>...</td>\n",
       "      <td>c15081046933655.1</td>\n",
       "      <td>0.0</td>\n",
       "      <td>Swan</td>\n",
       "      <td>0.0</td>\n",
       "      <td>2.846750e+12</td>\n",
       "      <td>Low</td>\n",
       "      <td>web</td>\n",
       "      <td>0.0</td>\n",
       "      <td>12-10-2020</td>\n",
       "      <td>14:11:13</td>\n",
       "    </tr>\n",
       "    <tr>\n",
       "      <th>4</th>\n",
       "      <td>#96565</td>\n",
       "      <td>paid</td>\n",
       "      <td>2020-10-12 14:05:34 +0100</td>\n",
       "      <td>unfulfilled</td>\n",
       "      <td>NaN</td>\n",
       "      <td>no</td>\n",
       "      <td>GBP</td>\n",
       "      <td>14.99</td>\n",
       "      <td>0.0</td>\n",
       "      <td>2.50</td>\n",
       "      <td>...</td>\n",
       "      <td>c15081018458263.1</td>\n",
       "      <td>0.0</td>\n",
       "      <td>Swan</td>\n",
       "      <td>0.0</td>\n",
       "      <td>2.846740e+12</td>\n",
       "      <td>Low</td>\n",
       "      <td>web</td>\n",
       "      <td>0.0</td>\n",
       "      <td>12-10-2020</td>\n",
       "      <td>14:05:34</td>\n",
       "    </tr>\n",
       "    <tr>\n",
       "      <th>5</th>\n",
       "      <td>#96564</td>\n",
       "      <td>paid</td>\n",
       "      <td>2020-10-12 13:56:33 +0100</td>\n",
       "      <td>unfulfilled</td>\n",
       "      <td>NaN</td>\n",
       "      <td>no</td>\n",
       "      <td>GBP</td>\n",
       "      <td>28.00</td>\n",
       "      <td>0.0</td>\n",
       "      <td>4.67</td>\n",
       "      <td>...</td>\n",
       "      <td>c15080958722199.1</td>\n",
       "      <td>0.0</td>\n",
       "      <td>Swan</td>\n",
       "      <td>0.0</td>\n",
       "      <td>2.846720e+12</td>\n",
       "      <td>Low</td>\n",
       "      <td>web</td>\n",
       "      <td>0.0</td>\n",
       "      <td>12-10-2020</td>\n",
       "      <td>13:56:33</td>\n",
       "    </tr>\n",
       "  </tbody>\n",
       "</table>\n",
       "<p>5 rows × 37 columns</p>\n",
       "</div>"
      ],
      "text/plain": [
       "     Name Financial_Status                    Paid_at Fulfillment_Status  \\\n",
       "0  #96568             paid  2020-10-12 14:22:07 +0100        unfulfilled   \n",
       "1  #96567             paid  2020-10-12 14:17:46 +0100        unfulfilled   \n",
       "2  #96566             paid  2020-10-12 14:11:13 +0100        unfulfilled   \n",
       "4  #96565             paid  2020-10-12 14:05:34 +0100        unfulfilled   \n",
       "5  #96564             paid  2020-10-12 13:56:33 +0100        unfulfilled   \n",
       "\n",
       "  Fulfilled_at Accepts_Marketing Currency  Subtotal  Shipping  Taxes  ...  \\\n",
       "0          NaN                no      GBP      9.99       0.0   1.67  ...   \n",
       "1          NaN                no      GBP    179.99       0.0  30.00  ...   \n",
       "2          NaN                no      GBP     71.99       0.0  12.00  ...   \n",
       "4          NaN                no      GBP     14.99       0.0   2.50  ...   \n",
       "5          NaN                no      GBP     28.00       0.0   4.67  ...   \n",
       "\n",
       "   Payment_Reference  Refunded_Amount Vendor Outstanding_Balance  \\\n",
       "0  c15081125314711.1              0.0   Swan                 0.0   \n",
       "1  c15081086582935.1              0.0   Swan                 0.0   \n",
       "2  c15081046933655.1              0.0   Swan                 0.0   \n",
       "4  c15081018458263.1              0.0   Swan                 0.0   \n",
       "5  c15080958722199.1              0.0   Swan                 0.0   \n",
       "\n",
       "             Id Risk_Level  Source  Lineitem_discount        Date      Time  \n",
       "0  2.846770e+12        Low     web                0.0  12-10-2020  14:22:07  \n",
       "1  2.846760e+12        Low     web                0.0  12-10-2020  14:17:46  \n",
       "2  2.846750e+12        Low     web                0.0  12-10-2020  14:11:13  \n",
       "4  2.846740e+12        Low     web                0.0  12-10-2020  14:05:34  \n",
       "5  2.846720e+12        Low     web                0.0  12-10-2020  13:56:33  \n",
       "\n",
       "[5 rows x 37 columns]"
      ]
     },
     "execution_count": 19,
     "metadata": {},
     "output_type": "execute_result"
    }
   ],
   "source": [
    "df.head()"
   ]
  },
  {
   "cell_type": "code",
   "execution_count": 20,
   "id": "45b22f9a",
   "metadata": {},
   "outputs": [
    {
     "data": {
      "text/plain": [
       "1.0"
      ]
     },
     "execution_count": 20,
     "metadata": {},
     "output_type": "execute_result"
    }
   ],
   "source": [
    "df['Lineitem_quantity'].min()"
   ]
  },
  {
   "cell_type": "code",
   "execution_count": 21,
   "id": "72d950cb",
   "metadata": {},
   "outputs": [
    {
     "data": {
      "text/plain": [
       "(95484, 37)"
      ]
     },
     "execution_count": 21,
     "metadata": {},
     "output_type": "execute_result"
    }
   ],
   "source": [
    "df.shape"
   ]
  },
  {
   "cell_type": "markdown",
   "id": "2b947529",
   "metadata": {},
   "source": [
    "<h1> Objective <h1/>"
   ]
  },
  {
   "cell_type": "markdown",
   "id": "c7c2a25a",
   "metadata": {},
   "source": [
    "- Top 10 products with highest revenue.\n",
    "- How many products are being sold.\n",
    "- What seasonality looks like .\n",
    "- Which combination of products is the most popular .\n",
    "- Which is most preferable ship mode .\n",
    "- What was the best month for sales?How much waws earned that month?"
   ]
  },
  {
   "cell_type": "markdown",
   "id": "bd655c85",
   "metadata": {},
   "source": [
    "<h3> Top 10 products with highest revenue <h3/>"
   ]
  },
  {
   "cell_type": "code",
   "execution_count": 22,
   "id": "72ecf98d",
   "metadata": {},
   "outputs": [
    {
     "data": {
      "text/html": [
       "<div>\n",
       "<style scoped>\n",
       "    .dataframe tbody tr th:only-of-type {\n",
       "        vertical-align: middle;\n",
       "    }\n",
       "\n",
       "    .dataframe tbody tr th {\n",
       "        vertical-align: top;\n",
       "    }\n",
       "\n",
       "    .dataframe thead th {\n",
       "        text-align: right;\n",
       "    }\n",
       "</style>\n",
       "<table border=\"1\" class=\"dataframe\">\n",
       "  <thead>\n",
       "    <tr style=\"text-align: right;\">\n",
       "      <th></th>\n",
       "      <th>Total</th>\n",
       "    </tr>\n",
       "    <tr>\n",
       "      <th>Lineitem_name</th>\n",
       "      <th></th>\n",
       "    </tr>\n",
       "  </thead>\n",
       "  <tbody>\n",
       "    <tr>\n",
       "      <th>Focus1 HyperClean Cordless 3-in-1 Vacuum - Light Blue - SC15820N</th>\n",
       "      <td>389907.04</td>\n",
       "    </tr>\n",
       "    <tr>\n",
       "      <th>Focus1 PowerPlush Turbo Cordless 3-in-1 Vacuum - Dark Blue - SC15822N</th>\n",
       "      <td>250937.61</td>\n",
       "    </tr>\n",
       "    <tr>\n",
       "      <th>Focus1 HyperClean Cordless 3-in-1 Vacuum - Light Blue</th>\n",
       "      <td>178482.49</td>\n",
       "    </tr>\n",
       "    <tr>\n",
       "      <th>Focus1 Handheld Garment Steamer - Purple - SI12020N</th>\n",
       "      <td>119298.56</td>\n",
       "    </tr>\n",
       "    <tr>\n",
       "      <th>Focus1 Portable Garment Steamer - Grey</th>\n",
       "      <td>113225.28</td>\n",
       "    </tr>\n",
       "    <tr>\n",
       "      <th>Focus1 TurboPower Pet Extend Upright Vacuum - Blue - SC15834N</th>\n",
       "      <td>99104.71</td>\n",
       "    </tr>\n",
       "    <tr>\n",
       "      <th>Focus1 PowerPlush Turbo Cordless 3-in-1 Vacuum - Dark Blue</th>\n",
       "      <td>88943.44</td>\n",
       "    </tr>\n",
       "    <tr>\n",
       "      <th>Focus1 PowerTurbo Cordless 3-in-1 Vacuum - Grey - SC15824N</th>\n",
       "      <td>69737.75</td>\n",
       "    </tr>\n",
       "    <tr>\n",
       "      <th>Focus1 20L Nordic Digital Microwave - Slate Grey - SM22036GRYN</th>\n",
       "      <td>65431.55</td>\n",
       "    </tr>\n",
       "    <tr>\n",
       "      <th>Focus1 MultiClean Pet Bagless Cylinder Vacuum - Light Blue - SC15812N</th>\n",
       "      <td>62814.22</td>\n",
       "    </tr>\n",
       "  </tbody>\n",
       "</table>\n",
       "</div>"
      ],
      "text/plain": [
       "                                                        Total\n",
       "Lineitem_name                                                \n",
       "Focus1 HyperClean Cordless 3-in-1 Vacuum - Ligh...  389907.04\n",
       "Focus1 PowerPlush Turbo Cordless 3-in-1 Vacuum ...  250937.61\n",
       "Focus1 HyperClean Cordless 3-in-1 Vacuum - Ligh...  178482.49\n",
       "Focus1 Handheld Garment Steamer - Purple - SI12...  119298.56\n",
       "Focus1 Portable Garment Steamer - Grey              113225.28\n",
       "Focus1 TurboPower Pet Extend Upright Vacuum - B...   99104.71\n",
       "Focus1 PowerPlush Turbo Cordless 3-in-1 Vacuum ...   88943.44\n",
       "Focus1 PowerTurbo Cordless 3-in-1 Vacuum - Grey...   69737.75\n",
       "Focus1 20L Nordic Digital Microwave - Slate Gre...   65431.55\n",
       "Focus1 MultiClean Pet Bagless Cylinder Vacuum -...   62814.22"
      ]
     },
     "execution_count": 22,
     "metadata": {},
     "output_type": "execute_result"
    }
   ],
   "source": [
    "Product_Sales=pd.DataFrame(df.groupby('Lineitem_name').sum()['Total'])\n",
    "Product_Sales=Product_Sales.sort_values('Total',ascending=False)\n",
    "Product_Sales[:10]"
   ]
  },
  {
   "cell_type": "markdown",
   "id": "6e414505",
   "metadata": {},
   "source": [
    "     "
   ]
  },
  {
   "cell_type": "markdown",
   "id": "9bd79b6c",
   "metadata": {},
   "source": [
    "<h3> which combination of products is the most popular <h3/>"
   ]
  },
  {
   "cell_type": "code",
   "execution_count": 23,
   "id": "dbd858fb",
   "metadata": {},
   "outputs": [
    {
     "data": {
      "text/html": [
       "<div>\n",
       "<style scoped>\n",
       "    .dataframe tbody tr th:only-of-type {\n",
       "        vertical-align: middle;\n",
       "    }\n",
       "\n",
       "    .dataframe tbody tr th {\n",
       "        vertical-align: top;\n",
       "    }\n",
       "\n",
       "    .dataframe thead th {\n",
       "        text-align: right;\n",
       "    }\n",
       "</style>\n",
       "<table border=\"1\" class=\"dataframe\">\n",
       "  <thead>\n",
       "    <tr style=\"text-align: right;\">\n",
       "      <th></th>\n",
       "      <th>Lineitem_quantity</th>\n",
       "    </tr>\n",
       "    <tr>\n",
       "      <th>Lineitem_name</th>\n",
       "      <th></th>\n",
       "    </tr>\n",
       "  </thead>\n",
       "  <tbody>\n",
       "    <tr>\n",
       "      <th>Focus1 Handheld Garment Steamer - Purple - SI12020N</th>\n",
       "      <td>4740.0</td>\n",
       "    </tr>\n",
       "  </tbody>\n",
       "</table>\n",
       "</div>"
      ],
      "text/plain": [
       "                                                    Lineitem_quantity\n",
       "Lineitem_name                                                        \n",
       "Focus1 Handheld Garment Steamer - Purple - SI12...             4740.0"
      ]
     },
     "execution_count": 23,
     "metadata": {},
     "output_type": "execute_result"
    }
   ],
   "source": [
    "Most_sell_pro=pd.DataFrame(df.groupby(\"Lineitem_name\").sum()['Lineitem_quantity'])\n",
    "Most_sell_pro=Most_sell_pro.sort_values('Lineitem_quantity', ascending=False)\n",
    "Most_sell_pro[:1]"
   ]
  },
  {
   "cell_type": "markdown",
   "id": "91c794c7",
   "metadata": {},
   "source": [
    "      "
   ]
  },
  {
   "cell_type": "markdown",
   "id": "376a1904",
   "metadata": {},
   "source": [
    "<h3>what seasonality looks like<h3 />"
   ]
  },
  {
   "cell_type": "code",
   "execution_count": 24,
   "id": "ff2bf1d0",
   "metadata": {},
   "outputs": [],
   "source": [
    "df['Date'] = pd.to_datetime(df['Date'])"
   ]
  },
  {
   "cell_type": "code",
   "execution_count": 25,
   "id": "af71dc32",
   "metadata": {},
   "outputs": [
    {
     "data": {
      "image/png": "[encoded data removed]",
      "text/plain": [
       "<Figure size 864x432 with 1 Axes>"
      ]
     },
     "metadata": {
      "needs_background": "light"
     },
     "output_type": "display_data"
    }
   ],
   "source": [
    "df.plot(x='Date', y='Total', figsize=(12,6))\n",
    "x_cor = ['2016-01-01','2017-01-01', '2018-01-01', '2019-01-01', '2020-01-01',\n",
    "          '2021-01-01']\n",
    "for i in x_cor:\n",
    "    plt.axvline(x=i, color='black', linestyle='--')\n",
    "plt.xlabel('Year')\n",
    "plt.ylabel('Sales')\n",
    "plt.title('seasonality')\n",
    "plt.show()"
   ]
  },
  {
   "cell_type": "markdown",
   "id": "e689a10a",
   "metadata": {},
   "source": [
    "     "
   ]
  },
  {
   "cell_type": "markdown",
   "id": "84a685e5",
   "metadata": {},
   "source": [
    "<h3>Total Sales by Months<h3/>"
   ]
  },
  {
   "cell_type": "code",
   "execution_count": 26,
   "id": "dd4a5a56",
   "metadata": {},
   "outputs": [],
   "source": [
    "df['month'] = pd.DatetimeIndex(df['Date']).month\n",
    "df_t_month=df.groupby('month').sum()['Total'].reset_index()"
   ]
  },
  {
   "cell_type": "code",
   "execution_count": 27,
   "id": "aa4ad185",
   "metadata": {},
   "outputs": [
    {
     "data": {
      "text/plain": [
       "Text(0.5, 1.0, 'Sales according months')"
      ]
     },
     "execution_count": 27,
     "metadata": {},
     "output_type": "execute_result"
    },
    {
     "data": {
      "image/png": "[encoded data removed]",
      "text/plain": [
       "<Figure size 720x432 with 1 Axes>"
      ]
     },
     "metadata": {
      "needs_background": "light"
     },
     "output_type": "display_data"
    }
   ],
   "source": [
    "plt.figure(figsize=(10,6))\n",
    "plt.plot(df_t_month[\"month\"], df_t_month[\"Total\"])\n",
    "plt.xlabel('Month')\n",
    "plt.ylabel('Sales')\n",
    "plt.title('Sales according months')"
   ]
  },
  {
   "cell_type": "code",
   "execution_count": 28,
   "id": "aaf3448d",
   "metadata": {},
   "outputs": [
    {
     "name": "stderr",
     "output_type": "stream",
     "text": [
      "C:\\Users\\soura\\anaconda3\\lib\\site-packages\\seaborn\\_decorators.py:36: FutureWarning: Pass the following variables as keyword args: x, y. From version 0.12, the only valid positional argument will be `data`, and passing other arguments without an explicit keyword will result in an error or misinterpretation.\n",
      "  warnings.warn(\n"
     ]
    },
    {
     "data": {
      "text/plain": [
       "Text(0.5, 1.0, 'Sales according Months')"
      ]
     },
     "execution_count": 28,
     "metadata": {},
     "output_type": "execute_result"
    },
    {
     "data": {
      "image/png": "[encoded data removed]",
      "text/plain": [
       "<Figure size 720x432 with 1 Axes>"
      ]
     },
     "metadata": {
      "needs_background": "light"
     },
     "output_type": "display_data"
    }
   ],
   "source": [
    "plt.figure(figsize=(10,6))\n",
    "sns.barplot(df_t_month[\"month\"],df_t_month[\"Total\"])\n",
    "plt.xlabel('Month')\n",
    "plt.ylabel('Sales')\n",
    "plt.title('Sales according Months')"
   ]
  },
  {
   "cell_type": "markdown",
   "id": "95436f60",
   "metadata": {},
   "source": [
    "     "
   ]
  },
  {
   "cell_type": "markdown",
   "id": "e3d86daf",
   "metadata": {},
   "source": [
    "<h3>what was the best month for sales?How much waws earned that month?<h3/>"
   ]
  },
  {
   "cell_type": "code",
   "execution_count": 29,
   "id": "eac95beb",
   "metadata": {},
   "outputs": [
    {
     "data": {
      "text/plain": [
       "month        12.00\n",
       "Total    582037.67\n",
       "dtype: float64"
      ]
     },
     "execution_count": 29,
     "metadata": {},
     "output_type": "execute_result"
    }
   ],
   "source": [
    "df_t_month.max()"
   ]
  },
  {
   "cell_type": "markdown",
   "id": "889410d2",
   "metadata": {},
   "source": [
    "<h4>December month made the highest sales with 562726.93 revenue<h4/>"
   ]
  },
  {
   "cell_type": "markdown",
   "id": "1c60fe32",
   "metadata": {},
   "source": [
    "<h3>How many product are sold<h3/>"
   ]
  },
  {
   "cell_type": "code",
   "execution_count": 30,
   "id": "a9c20317",
   "metadata": {},
   "outputs": [
    {
     "data": {
      "text/plain": [
       "Timestamp('2016-01-04 00:00:00')"
      ]
     },
     "execution_count": 30,
     "metadata": {},
     "output_type": "execute_result"
    }
   ],
   "source": [
    "df['Date'].min()"
   ]
  },
  {
   "cell_type": "code",
   "execution_count": 31,
   "id": "81f38c4e",
   "metadata": {},
   "outputs": [
    {
     "data": {
      "text/plain": [
       "Timestamp('2020-12-10 00:00:00')"
      ]
     },
     "execution_count": 31,
     "metadata": {},
     "output_type": "execute_result"
    }
   ],
   "source": [
    "df['Date'].max()"
   ]
  },
  {
   "cell_type": "code",
   "execution_count": 32,
   "id": "f8b520ce",
   "metadata": {},
   "outputs": [
    {
     "data": {
      "text/plain": [
       "98141.0"
      ]
     },
     "execution_count": 32,
     "metadata": {},
     "output_type": "execute_result"
    }
   ],
   "source": [
    "df['Lineitem_quantity'].sum()"
   ]
  },
  {
   "cell_type": "code",
   "execution_count": 33,
   "id": "78b974c9",
   "metadata": {},
   "outputs": [
    {
     "data": {
      "text/plain": [
       "5621379.92"
      ]
     },
     "execution_count": 33,
     "metadata": {},
     "output_type": "execute_result"
    }
   ],
   "source": [
    "df['Total'].sum().round(2)"
   ]
  },
  {
   "cell_type": "markdown",
   "id": "86486300",
   "metadata": {},
   "source": [
    "<h4>From 2016-01-04 to 2020-12-10 there are 121934 quantity of products sold and total 5621379.92 revenue made<h4/>"
   ]
  },
  {
   "cell_type": "markdown",
   "id": "f07ac708",
   "metadata": {},
   "source": [
    "    "
   ]
  },
  {
   "cell_type": "markdown",
   "id": "95888008",
   "metadata": {},
   "source": [
    "<h3>Which is most preferable ship mode<h3/>"
   ]
  },
  {
   "cell_type": "code",
   "execution_count": 34,
   "id": "d72f26be",
   "metadata": {},
   "outputs": [
    {
     "name": "stderr",
     "output_type": "stream",
     "text": [
      "C:\\Users\\soura\\anaconda3\\lib\\site-packages\\seaborn\\_decorators.py:36: FutureWarning: Pass the following variable as a keyword arg: x. From version 0.12, the only valid positional argument will be `data`, and passing other arguments without an explicit keyword will result in an error or misinterpretation.\n",
      "  warnings.warn(\n"
     ]
    },
    {
     "data": {
      "image/png": "[encoded data removed]",
      "text/plain": [
       "<Figure size 432x288 with 1 Axes>"
      ]
     },
     "metadata": {
      "needs_background": "light"
     },
     "output_type": "display_data"
    }
   ],
   "source": [
    "sns.countplot(df['Shipping_Method'])\n",
    "plt.xticks(rotation='vertical')\n",
    "plt.show()"
   ]
  },
  {
   "cell_type": "markdown",
   "id": "7ef4140d",
   "metadata": {},
   "source": [
    "      "
   ]
  },
  {
   "cell_type": "markdown",
   "id": "2ba80f79",
   "metadata": {},
   "source": [
    "<h1>RFM Modeling<h1/>"
   ]
  },
  {
   "cell_type": "code",
   "execution_count": 35,
   "id": "c6a0275d",
   "metadata": {},
   "outputs": [],
   "source": [
    "Latest_Date = dt.datetime(2020,12,10)"
   ]
  },
  {
   "cell_type": "code",
   "execution_count": 36,
   "id": "12ba402e",
   "metadata": {},
   "outputs": [
    {
     "data": {
      "text/html": [
       "<div>\n",
       "<style scoped>\n",
       "    .dataframe tbody tr th:only-of-type {\n",
       "        vertical-align: middle;\n",
       "    }\n",
       "\n",
       "    .dataframe tbody tr th {\n",
       "        vertical-align: top;\n",
       "    }\n",
       "\n",
       "    .dataframe thead th {\n",
       "        text-align: right;\n",
       "    }\n",
       "</style>\n",
       "<table border=\"1\" class=\"dataframe\">\n",
       "  <thead>\n",
       "    <tr style=\"text-align: right;\">\n",
       "      <th></th>\n",
       "      <th>Name</th>\n",
       "      <th>Recency</th>\n",
       "      <th>Frequency</th>\n",
       "      <th>Monetary</th>\n",
       "    </tr>\n",
       "  </thead>\n",
       "  <tbody>\n",
       "    <tr>\n",
       "      <th>0</th>\n",
       "      <td>#10000</td>\n",
       "      <td>1140</td>\n",
       "      <td>1</td>\n",
       "      <td>14.99</td>\n",
       "    </tr>\n",
       "    <tr>\n",
       "      <th>1</th>\n",
       "      <td>#10001</td>\n",
       "      <td>1140</td>\n",
       "      <td>1</td>\n",
       "      <td>89.99</td>\n",
       "    </tr>\n",
       "    <tr>\n",
       "      <th>2</th>\n",
       "      <td>#10002</td>\n",
       "      <td>1140</td>\n",
       "      <td>1</td>\n",
       "      <td>14.99</td>\n",
       "    </tr>\n",
       "    <tr>\n",
       "      <th>3</th>\n",
       "      <td>#10003</td>\n",
       "      <td>1140</td>\n",
       "      <td>1</td>\n",
       "      <td>14.99</td>\n",
       "    </tr>\n",
       "    <tr>\n",
       "      <th>4</th>\n",
       "      <td>#10004</td>\n",
       "      <td>1140</td>\n",
       "      <td>1</td>\n",
       "      <td>69.99</td>\n",
       "    </tr>\n",
       "  </tbody>\n",
       "</table>\n",
       "</div>"
      ],
      "text/plain": [
       "     Name  Recency  Frequency  Monetary\n",
       "0  #10000     1140          1     14.99\n",
       "1  #10001     1140          1     89.99\n",
       "2  #10002     1140          1     14.99\n",
       "3  #10003     1140          1     14.99\n",
       "4  #10004     1140          1     69.99"
      ]
     },
     "execution_count": 36,
     "metadata": {},
     "output_type": "execute_result"
    }
   ],
   "source": [
    "RFMScores = df.groupby('Name').agg({'Date': lambda x: (Latest_Date - x.max()).days,\n",
    "                                    'Payment_Reference': lambda x: len(x),\n",
    "                                    'Total': lambda x: x.sum()})\n",
    "#Rename column names to Recency, Frequency and Monetary\n",
    "RFMScores.rename(columns={'Date': 'Recency', \n",
    "                         'Payment_Reference': 'Frequency', \n",
    "                         'Total': 'Monetary'}, inplace=True)\n",
    "\n",
    "RFMScores.reset_index().head()"
   ]
  },
  {
   "cell_type": "code",
   "execution_count": 37,
   "id": "44f2659e",
   "metadata": {},
   "outputs": [
    {
     "data": {
      "text/html": [
       "<div>\n",
       "<style scoped>\n",
       "    .dataframe tbody tr th:only-of-type {\n",
       "        vertical-align: middle;\n",
       "    }\n",
       "\n",
       "    .dataframe tbody tr th {\n",
       "        vertical-align: top;\n",
       "    }\n",
       "\n",
       "    .dataframe thead th {\n",
       "        text-align: right;\n",
       "    }\n",
       "</style>\n",
       "<table border=\"1\" class=\"dataframe\">\n",
       "  <thead>\n",
       "    <tr style=\"text-align: right;\">\n",
       "      <th></th>\n",
       "      <th>Recency</th>\n",
       "      <th>Frequency</th>\n",
       "      <th>Monetary</th>\n",
       "    </tr>\n",
       "  </thead>\n",
       "  <tbody>\n",
       "    <tr>\n",
       "      <th>count</th>\n",
       "      <td>95484.000000</td>\n",
       "      <td>95484.0</td>\n",
       "      <td>95484.000000</td>\n",
       "    </tr>\n",
       "    <tr>\n",
       "      <th>mean</th>\n",
       "      <td>403.008253</td>\n",
       "      <td>1.0</td>\n",
       "      <td>58.872480</td>\n",
       "    </tr>\n",
       "    <tr>\n",
       "      <th>std</th>\n",
       "      <td>405.053706</td>\n",
       "      <td>0.0</td>\n",
       "      <td>66.217577</td>\n",
       "    </tr>\n",
       "    <tr>\n",
       "      <th>min</th>\n",
       "      <td>0.000000</td>\n",
       "      <td>1.0</td>\n",
       "      <td>0.000000</td>\n",
       "    </tr>\n",
       "    <tr>\n",
       "      <th>25%</th>\n",
       "      <td>138.000000</td>\n",
       "      <td>1.0</td>\n",
       "      <td>22.500000</td>\n",
       "    </tr>\n",
       "    <tr>\n",
       "      <th>50%</th>\n",
       "      <td>245.500000</td>\n",
       "      <td>1.0</td>\n",
       "      <td>36.000000</td>\n",
       "    </tr>\n",
       "    <tr>\n",
       "      <th>75%</th>\n",
       "      <td>487.000000</td>\n",
       "      <td>1.0</td>\n",
       "      <td>72.000000</td>\n",
       "    </tr>\n",
       "    <tr>\n",
       "      <th>max</th>\n",
       "      <td>1802.000000</td>\n",
       "      <td>1.0</td>\n",
       "      <td>1952.900000</td>\n",
       "    </tr>\n",
       "  </tbody>\n",
       "</table>\n",
       "</div>"
      ],
      "text/plain": [
       "            Recency  Frequency      Monetary\n",
       "count  95484.000000    95484.0  95484.000000\n",
       "mean     403.008253        1.0     58.872480\n",
       "std      405.053706        0.0     66.217577\n",
       "min        0.000000        1.0      0.000000\n",
       "25%      138.000000        1.0     22.500000\n",
       "50%      245.500000        1.0     36.000000\n",
       "75%      487.000000        1.0     72.000000\n",
       "max     1802.000000        1.0   1952.900000"
      ]
     },
     "execution_count": 37,
     "metadata": {},
     "output_type": "execute_result"
    }
   ],
   "source": [
    "RFMScores.describe()"
   ]
  },
  {
   "cell_type": "code",
   "execution_count": 38,
   "id": "a266fa25",
   "metadata": {},
   "outputs": [
    {
     "name": "stderr",
     "output_type": "stream",
     "text": [
      "C:\\Users\\soura\\anaconda3\\lib\\site-packages\\seaborn\\distributions.py:2619: FutureWarning: `distplot` is a deprecated function and will be removed in a future version. Please adapt your code to use either `displot` (a figure-level function with similar flexibility) or `histplot` (an axes-level function for histograms).\n",
      "  warnings.warn(msg, FutureWarning)\n"
     ]
    },
    {
     "data": {
      "image/png": "[encoded data removed]",
      "text/plain": [
       "<Figure size 432x288 with 1 Axes>"
      ]
     },
     "metadata": {
      "needs_background": "light"
     },
     "output_type": "display_data"
    }
   ],
   "source": [
    "x = RFMScores['Recency']\n",
    "\n",
    "ax = sns.distplot(x)"
   ]
  },
  {
   "cell_type": "code",
   "execution_count": 39,
   "id": "732191d3",
   "metadata": {},
   "outputs": [],
   "source": [
    "quantiles = RFMScores.quantile(q=[0.25,0.5,0.75])\n",
    "quantiles = quantiles.to_dict()"
   ]
  },
  {
   "cell_type": "code",
   "execution_count": 40,
   "id": "68365f0d",
   "metadata": {},
   "outputs": [],
   "source": [
    "def RScoring(x,p,d):\n",
    "    if x <= d[p][0.25]:\n",
    "        return 1\n",
    "    elif x <= d[p][0.50]:\n",
    "        return 2\n",
    "    elif x <= d[p][0.75]: \n",
    "        return 3\n",
    "    else:\n",
    "        return 4\n",
    "    \n",
    "def FnMScoring(x,p,d):\n",
    "    if x <= d[p][0.25]:\n",
    "        return 4\n",
    "    elif x <= d[p][0.50]:\n",
    "        return 3\n",
    "    elif x <= d[p][0.75]: \n",
    "        return 2\n",
    "    else:\n",
    "        return 1"
   ]
  },
  {
   "cell_type": "code",
   "execution_count": 41,
   "id": "ad8b25f8",
   "metadata": {},
   "outputs": [
    {
     "data": {
      "text/html": [
       "<div>\n",
       "<style scoped>\n",
       "    .dataframe tbody tr th:only-of-type {\n",
       "        vertical-align: middle;\n",
       "    }\n",
       "\n",
       "    .dataframe tbody tr th {\n",
       "        vertical-align: top;\n",
       "    }\n",
       "\n",
       "    .dataframe thead th {\n",
       "        text-align: right;\n",
       "    }\n",
       "</style>\n",
       "<table border=\"1\" class=\"dataframe\">\n",
       "  <thead>\n",
       "    <tr style=\"text-align: right;\">\n",
       "      <th></th>\n",
       "      <th>Recency</th>\n",
       "      <th>Frequency</th>\n",
       "      <th>Monetary</th>\n",
       "      <th>R</th>\n",
       "      <th>F</th>\n",
       "      <th>M</th>\n",
       "    </tr>\n",
       "    <tr>\n",
       "      <th>Name</th>\n",
       "      <th></th>\n",
       "      <th></th>\n",
       "      <th></th>\n",
       "      <th></th>\n",
       "      <th></th>\n",
       "      <th></th>\n",
       "    </tr>\n",
       "  </thead>\n",
       "  <tbody>\n",
       "    <tr>\n",
       "      <th>#10000</th>\n",
       "      <td>1140</td>\n",
       "      <td>1</td>\n",
       "      <td>14.99</td>\n",
       "      <td>4</td>\n",
       "      <td>4</td>\n",
       "      <td>4</td>\n",
       "    </tr>\n",
       "    <tr>\n",
       "      <th>#10001</th>\n",
       "      <td>1140</td>\n",
       "      <td>1</td>\n",
       "      <td>89.99</td>\n",
       "      <td>4</td>\n",
       "      <td>4</td>\n",
       "      <td>1</td>\n",
       "    </tr>\n",
       "    <tr>\n",
       "      <th>#10002</th>\n",
       "      <td>1140</td>\n",
       "      <td>1</td>\n",
       "      <td>14.99</td>\n",
       "      <td>4</td>\n",
       "      <td>4</td>\n",
       "      <td>4</td>\n",
       "    </tr>\n",
       "    <tr>\n",
       "      <th>#10003</th>\n",
       "      <td>1140</td>\n",
       "      <td>1</td>\n",
       "      <td>14.99</td>\n",
       "      <td>4</td>\n",
       "      <td>4</td>\n",
       "      <td>4</td>\n",
       "    </tr>\n",
       "    <tr>\n",
       "      <th>#10004</th>\n",
       "      <td>1140</td>\n",
       "      <td>1</td>\n",
       "      <td>69.99</td>\n",
       "      <td>4</td>\n",
       "      <td>4</td>\n",
       "      <td>2</td>\n",
       "    </tr>\n",
       "  </tbody>\n",
       "</table>\n",
       "</div>"
      ],
      "text/plain": [
       "        Recency  Frequency  Monetary  R  F  M\n",
       "Name                                         \n",
       "#10000     1140          1     14.99  4  4  4\n",
       "#10001     1140          1     89.99  4  4  1\n",
       "#10002     1140          1     14.99  4  4  4\n",
       "#10003     1140          1     14.99  4  4  4\n",
       "#10004     1140          1     69.99  4  4  2"
      ]
     },
     "execution_count": 41,
     "metadata": {},
     "output_type": "execute_result"
    }
   ],
   "source": [
    "RFMScores['R'] = RFMScores['Recency'].apply(RScoring, args=('Recency',quantiles,))\n",
    "RFMScores['F'] = RFMScores['Frequency'].apply(FnMScoring, args=('Frequency',quantiles,))\n",
    "RFMScores['M'] = RFMScores['Monetary'].apply(FnMScoring, args=('Monetary',quantiles,))\n",
    "RFMScores.head()"
   ]
  },
  {
   "cell_type": "code",
   "execution_count": 42,
   "id": "b4dc6cf8",
   "metadata": {},
   "outputs": [
    {
     "data": {
      "text/html": [
       "<div>\n",
       "<style scoped>\n",
       "    .dataframe tbody tr th:only-of-type {\n",
       "        vertical-align: middle;\n",
       "    }\n",
       "\n",
       "    .dataframe tbody tr th {\n",
       "        vertical-align: top;\n",
       "    }\n",
       "\n",
       "    .dataframe thead th {\n",
       "        text-align: right;\n",
       "    }\n",
       "</style>\n",
       "<table border=\"1\" class=\"dataframe\">\n",
       "  <thead>\n",
       "    <tr style=\"text-align: right;\">\n",
       "      <th></th>\n",
       "      <th>Recency</th>\n",
       "      <th>Frequency</th>\n",
       "      <th>Monetary</th>\n",
       "      <th>R</th>\n",
       "      <th>F</th>\n",
       "      <th>M</th>\n",
       "      <th>RFMGroup</th>\n",
       "      <th>RFMScore</th>\n",
       "    </tr>\n",
       "    <tr>\n",
       "      <th>Name</th>\n",
       "      <th></th>\n",
       "      <th></th>\n",
       "      <th></th>\n",
       "      <th></th>\n",
       "      <th></th>\n",
       "      <th></th>\n",
       "      <th></th>\n",
       "      <th></th>\n",
       "    </tr>\n",
       "  </thead>\n",
       "  <tbody>\n",
       "    <tr>\n",
       "      <th>#10000</th>\n",
       "      <td>1140</td>\n",
       "      <td>1</td>\n",
       "      <td>14.99</td>\n",
       "      <td>4</td>\n",
       "      <td>4</td>\n",
       "      <td>4</td>\n",
       "      <td>444</td>\n",
       "      <td>12</td>\n",
       "    </tr>\n",
       "    <tr>\n",
       "      <th>#10001</th>\n",
       "      <td>1140</td>\n",
       "      <td>1</td>\n",
       "      <td>89.99</td>\n",
       "      <td>4</td>\n",
       "      <td>4</td>\n",
       "      <td>1</td>\n",
       "      <td>441</td>\n",
       "      <td>9</td>\n",
       "    </tr>\n",
       "    <tr>\n",
       "      <th>#10002</th>\n",
       "      <td>1140</td>\n",
       "      <td>1</td>\n",
       "      <td>14.99</td>\n",
       "      <td>4</td>\n",
       "      <td>4</td>\n",
       "      <td>4</td>\n",
       "      <td>444</td>\n",
       "      <td>12</td>\n",
       "    </tr>\n",
       "    <tr>\n",
       "      <th>#10003</th>\n",
       "      <td>1140</td>\n",
       "      <td>1</td>\n",
       "      <td>14.99</td>\n",
       "      <td>4</td>\n",
       "      <td>4</td>\n",
       "      <td>4</td>\n",
       "      <td>444</td>\n",
       "      <td>12</td>\n",
       "    </tr>\n",
       "    <tr>\n",
       "      <th>#10004</th>\n",
       "      <td>1140</td>\n",
       "      <td>1</td>\n",
       "      <td>69.99</td>\n",
       "      <td>4</td>\n",
       "      <td>4</td>\n",
       "      <td>2</td>\n",
       "      <td>442</td>\n",
       "      <td>10</td>\n",
       "    </tr>\n",
       "    <tr>\n",
       "      <th>#10005</th>\n",
       "      <td>1140</td>\n",
       "      <td>1</td>\n",
       "      <td>29.95</td>\n",
       "      <td>4</td>\n",
       "      <td>4</td>\n",
       "      <td>3</td>\n",
       "      <td>443</td>\n",
       "      <td>11</td>\n",
       "    </tr>\n",
       "    <tr>\n",
       "      <th>#10006</th>\n",
       "      <td>1140</td>\n",
       "      <td>1</td>\n",
       "      <td>20.00</td>\n",
       "      <td>4</td>\n",
       "      <td>4</td>\n",
       "      <td>4</td>\n",
       "      <td>444</td>\n",
       "      <td>12</td>\n",
       "    </tr>\n",
       "    <tr>\n",
       "      <th>#10007</th>\n",
       "      <td>1140</td>\n",
       "      <td>1</td>\n",
       "      <td>14.99</td>\n",
       "      <td>4</td>\n",
       "      <td>4</td>\n",
       "      <td>4</td>\n",
       "      <td>444</td>\n",
       "      <td>12</td>\n",
       "    </tr>\n",
       "    <tr>\n",
       "      <th>#10008</th>\n",
       "      <td>1140</td>\n",
       "      <td>1</td>\n",
       "      <td>749.99</td>\n",
       "      <td>4</td>\n",
       "      <td>4</td>\n",
       "      <td>1</td>\n",
       "      <td>441</td>\n",
       "      <td>9</td>\n",
       "    </tr>\n",
       "    <tr>\n",
       "      <th>#10009</th>\n",
       "      <td>1140</td>\n",
       "      <td>1</td>\n",
       "      <td>14.99</td>\n",
       "      <td>4</td>\n",
       "      <td>4</td>\n",
       "      <td>4</td>\n",
       "      <td>444</td>\n",
       "      <td>12</td>\n",
       "    </tr>\n",
       "  </tbody>\n",
       "</table>\n",
       "</div>"
      ],
      "text/plain": [
       "        Recency  Frequency  Monetary  R  F  M RFMGroup  RFMScore\n",
       "Name                                                            \n",
       "#10000     1140          1     14.99  4  4  4      444        12\n",
       "#10001     1140          1     89.99  4  4  1      441         9\n",
       "#10002     1140          1     14.99  4  4  4      444        12\n",
       "#10003     1140          1     14.99  4  4  4      444        12\n",
       "#10004     1140          1     69.99  4  4  2      442        10\n",
       "#10005     1140          1     29.95  4  4  3      443        11\n",
       "#10006     1140          1     20.00  4  4  4      444        12\n",
       "#10007     1140          1     14.99  4  4  4      444        12\n",
       "#10008     1140          1    749.99  4  4  1      441         9\n",
       "#10009     1140          1     14.99  4  4  4      444        12"
      ]
     },
     "execution_count": 42,
     "metadata": {},
     "output_type": "execute_result"
    }
   ],
   "source": [
    "RFMScores['RFMGroup'] = RFMScores.R.map(str) + RFMScores.F.map(str) + RFMScores.M.map(str)\n",
    "RFMScores['RFMScore'] = RFMScores[['R', 'F', 'M']].sum(axis = 1)\n",
    "RFMScores.head(10)"
   ]
  },
  {
   "cell_type": "code",
   "execution_count": 43,
   "id": "57abb4d6",
   "metadata": {},
   "outputs": [
    {
     "data": {
      "image/png": "[encoded data removed]",
      "text/plain": [
       "<Figure size 1152x576 with 2 Axes>"
      ]
     },
     "metadata": {
      "needs_background": "light"
     },
     "output_type": "display_data"
    }
   ],
   "source": [
    "fig, ax = plt.subplots(1, 2, figsize=(16, 8))\n",
    "plt.xticks(rotation=90)\n",
    "\n",
    "sns.countplot(x=\"RFMScore\", data=RFMScores, color='steelblue', ax=ax[0])\n",
    "sns.countplot(x=\"RFMGroup\", data=RFMScores, color='steelblue', ax=ax[1])\n",
    "plt.show()"
   ]
  },
  {
   "cell_type": "code",
   "execution_count": 44,
   "id": "5ac887b9",
   "metadata": {},
   "outputs": [
    {
     "data": {
      "text/html": [
       "<div>\n",
       "<style scoped>\n",
       "    .dataframe tbody tr th:only-of-type {\n",
       "        vertical-align: middle;\n",
       "    }\n",
       "\n",
       "    .dataframe tbody tr th {\n",
       "        vertical-align: top;\n",
       "    }\n",
       "\n",
       "    .dataframe thead th {\n",
       "        text-align: right;\n",
       "    }\n",
       "</style>\n",
       "<table border=\"1\" class=\"dataframe\">\n",
       "  <thead>\n",
       "    <tr style=\"text-align: right;\">\n",
       "      <th></th>\n",
       "      <th>Recency</th>\n",
       "      <th>Frequency</th>\n",
       "      <th>Monetary</th>\n",
       "      <th>R</th>\n",
       "      <th>F</th>\n",
       "      <th>M</th>\n",
       "      <th>RFMScore</th>\n",
       "    </tr>\n",
       "  </thead>\n",
       "  <tbody>\n",
       "    <tr>\n",
       "      <th>count</th>\n",
       "      <td>95484.000000</td>\n",
       "      <td>95484.0</td>\n",
       "      <td>95484.000000</td>\n",
       "      <td>95484.000000</td>\n",
       "      <td>95484.0</td>\n",
       "      <td>95484.000000</td>\n",
       "      <td>95484.000000</td>\n",
       "    </tr>\n",
       "    <tr>\n",
       "      <th>mean</th>\n",
       "      <td>403.008253</td>\n",
       "      <td>1.0</td>\n",
       "      <td>58.872480</td>\n",
       "      <td>2.498921</td>\n",
       "      <td>4.0</td>\n",
       "      <td>2.503236</td>\n",
       "      <td>9.002157</td>\n",
       "    </tr>\n",
       "    <tr>\n",
       "      <th>std</th>\n",
       "      <td>405.053706</td>\n",
       "      <td>0.0</td>\n",
       "      <td>66.217577</td>\n",
       "      <td>1.118835</td>\n",
       "      <td>0.0</td>\n",
       "      <td>1.117239</td>\n",
       "      <td>1.639650</td>\n",
       "    </tr>\n",
       "    <tr>\n",
       "      <th>min</th>\n",
       "      <td>0.000000</td>\n",
       "      <td>1.0</td>\n",
       "      <td>0.000000</td>\n",
       "      <td>1.000000</td>\n",
       "      <td>4.0</td>\n",
       "      <td>1.000000</td>\n",
       "      <td>6.000000</td>\n",
       "    </tr>\n",
       "    <tr>\n",
       "      <th>25%</th>\n",
       "      <td>138.000000</td>\n",
       "      <td>1.0</td>\n",
       "      <td>22.500000</td>\n",
       "      <td>1.000000</td>\n",
       "      <td>4.0</td>\n",
       "      <td>2.000000</td>\n",
       "      <td>8.000000</td>\n",
       "    </tr>\n",
       "    <tr>\n",
       "      <th>50%</th>\n",
       "      <td>245.500000</td>\n",
       "      <td>1.0</td>\n",
       "      <td>36.000000</td>\n",
       "      <td>2.500000</td>\n",
       "      <td>4.0</td>\n",
       "      <td>3.000000</td>\n",
       "      <td>9.000000</td>\n",
       "    </tr>\n",
       "    <tr>\n",
       "      <th>75%</th>\n",
       "      <td>487.000000</td>\n",
       "      <td>1.0</td>\n",
       "      <td>72.000000</td>\n",
       "      <td>3.000000</td>\n",
       "      <td>4.0</td>\n",
       "      <td>4.000000</td>\n",
       "      <td>10.000000</td>\n",
       "    </tr>\n",
       "    <tr>\n",
       "      <th>max</th>\n",
       "      <td>1802.000000</td>\n",
       "      <td>1.0</td>\n",
       "      <td>1952.900000</td>\n",
       "      <td>4.000000</td>\n",
       "      <td>4.0</td>\n",
       "      <td>4.000000</td>\n",
       "      <td>12.000000</td>\n",
       "    </tr>\n",
       "  </tbody>\n",
       "</table>\n",
       "</div>"
      ],
      "text/plain": [
       "            Recency  Frequency      Monetary             R        F  \\\n",
       "count  95484.000000    95484.0  95484.000000  95484.000000  95484.0   \n",
       "mean     403.008253        1.0     58.872480      2.498921      4.0   \n",
       "std      405.053706        0.0     66.217577      1.118835      0.0   \n",
       "min        0.000000        1.0      0.000000      1.000000      4.0   \n",
       "25%      138.000000        1.0     22.500000      1.000000      4.0   \n",
       "50%      245.500000        1.0     36.000000      2.500000      4.0   \n",
       "75%      487.000000        1.0     72.000000      3.000000      4.0   \n",
       "max     1802.000000        1.0   1952.900000      4.000000      4.0   \n",
       "\n",
       "                  M      RFMScore  \n",
       "count  95484.000000  95484.000000  \n",
       "mean       2.503236      9.002157  \n",
       "std        1.117239      1.639650  \n",
       "min        1.000000      6.000000  \n",
       "25%        2.000000      8.000000  \n",
       "50%        3.000000      9.000000  \n",
       "75%        4.000000     10.000000  \n",
       "max        4.000000     12.000000  "
      ]
     },
     "execution_count": 44,
     "metadata": {},
     "output_type": "execute_result"
    }
   ],
   "source": [
    "RFMScores.describe()"
   ]
  },
  {
   "cell_type": "code",
   "execution_count": 45,
   "id": "edad0851",
   "metadata": {},
   "outputs": [
    {
     "data": {
      "text/html": [
       "<div>\n",
       "<style scoped>\n",
       "    .dataframe tbody tr th:only-of-type {\n",
       "        vertical-align: middle;\n",
       "    }\n",
       "\n",
       "    .dataframe tbody tr th {\n",
       "        vertical-align: top;\n",
       "    }\n",
       "\n",
       "    .dataframe thead th {\n",
       "        text-align: right;\n",
       "    }\n",
       "</style>\n",
       "<table border=\"1\" class=\"dataframe\">\n",
       "  <thead>\n",
       "    <tr style=\"text-align: right;\">\n",
       "      <th></th>\n",
       "      <th>Name</th>\n",
       "      <th>Recency</th>\n",
       "      <th>Frequency</th>\n",
       "      <th>Monetary</th>\n",
       "      <th>R</th>\n",
       "      <th>F</th>\n",
       "      <th>M</th>\n",
       "      <th>RFMGroup</th>\n",
       "      <th>RFMScore</th>\n",
       "      <th>RFM_Loyalty_Level</th>\n",
       "    </tr>\n",
       "  </thead>\n",
       "  <tbody>\n",
       "    <tr>\n",
       "      <th>0</th>\n",
       "      <td>#10000</td>\n",
       "      <td>1140</td>\n",
       "      <td>1</td>\n",
       "      <td>14.99</td>\n",
       "      <td>4</td>\n",
       "      <td>4</td>\n",
       "      <td>4</td>\n",
       "      <td>444</td>\n",
       "      <td>12</td>\n",
       "      <td>Bronze</td>\n",
       "    </tr>\n",
       "    <tr>\n",
       "      <th>1</th>\n",
       "      <td>#10001</td>\n",
       "      <td>1140</td>\n",
       "      <td>1</td>\n",
       "      <td>89.99</td>\n",
       "      <td>4</td>\n",
       "      <td>4</td>\n",
       "      <td>1</td>\n",
       "      <td>441</td>\n",
       "      <td>9</td>\n",
       "      <td>Gold</td>\n",
       "    </tr>\n",
       "    <tr>\n",
       "      <th>2</th>\n",
       "      <td>#10002</td>\n",
       "      <td>1140</td>\n",
       "      <td>1</td>\n",
       "      <td>14.99</td>\n",
       "      <td>4</td>\n",
       "      <td>4</td>\n",
       "      <td>4</td>\n",
       "      <td>444</td>\n",
       "      <td>12</td>\n",
       "      <td>Bronze</td>\n",
       "    </tr>\n",
       "    <tr>\n",
       "      <th>3</th>\n",
       "      <td>#10003</td>\n",
       "      <td>1140</td>\n",
       "      <td>1</td>\n",
       "      <td>14.99</td>\n",
       "      <td>4</td>\n",
       "      <td>4</td>\n",
       "      <td>4</td>\n",
       "      <td>444</td>\n",
       "      <td>12</td>\n",
       "      <td>Bronze</td>\n",
       "    </tr>\n",
       "    <tr>\n",
       "      <th>4</th>\n",
       "      <td>#10004</td>\n",
       "      <td>1140</td>\n",
       "      <td>1</td>\n",
       "      <td>69.99</td>\n",
       "      <td>4</td>\n",
       "      <td>4</td>\n",
       "      <td>2</td>\n",
       "      <td>442</td>\n",
       "      <td>10</td>\n",
       "      <td>Silver</td>\n",
       "    </tr>\n",
       "  </tbody>\n",
       "</table>\n",
       "</div>"
      ],
      "text/plain": [
       "     Name  Recency  Frequency  Monetary  R  F  M RFMGroup  RFMScore  \\\n",
       "0  #10000     1140          1     14.99  4  4  4      444        12   \n",
       "1  #10001     1140          1     89.99  4  4  1      441         9   \n",
       "2  #10002     1140          1     14.99  4  4  4      444        12   \n",
       "3  #10003     1140          1     14.99  4  4  4      444        12   \n",
       "4  #10004     1140          1     69.99  4  4  2      442        10   \n",
       "\n",
       "  RFM_Loyalty_Level  \n",
       "0            Bronze  \n",
       "1              Gold  \n",
       "2            Bronze  \n",
       "3            Bronze  \n",
       "4            Silver  "
      ]
     },
     "execution_count": 45,
     "metadata": {},
     "output_type": "execute_result"
    }
   ],
   "source": [
    "Loyalty_Level = ['Platinum', 'Gold', 'Silver', 'Bronze']\n",
    "Score_cuts = pd.qcut(RFMScores.RFMScore, q = 4, labels = Loyalty_Level)\n",
    "RFMScores['RFM_Loyalty_Level'] = Score_cuts.values\n",
    "RFMScores.reset_index().head()"
   ]
  },
  {
   "cell_type": "code",
   "execution_count": 46,
   "id": "0ff8439a",
   "metadata": {},
   "outputs": [
    {
     "data": {
      "text/html": [
       "<div>\n",
       "<style scoped>\n",
       "    .dataframe tbody tr th:only-of-type {\n",
       "        vertical-align: middle;\n",
       "    }\n",
       "\n",
       "    .dataframe tbody tr th {\n",
       "        vertical-align: top;\n",
       "    }\n",
       "\n",
       "    .dataframe thead th {\n",
       "        text-align: right;\n",
       "    }\n",
       "</style>\n",
       "<table border=\"1\" class=\"dataframe\">\n",
       "  <thead>\n",
       "    <tr style=\"text-align: right;\">\n",
       "      <th></th>\n",
       "      <th>Name</th>\n",
       "      <th>Recency</th>\n",
       "      <th>Frequency</th>\n",
       "      <th>Monetary</th>\n",
       "      <th>R</th>\n",
       "      <th>F</th>\n",
       "      <th>M</th>\n",
       "      <th>RFMGroup</th>\n",
       "      <th>RFMScore</th>\n",
       "      <th>RFM_Loyalty_Level</th>\n",
       "    </tr>\n",
       "  </thead>\n",
       "  <tbody>\n",
       "    <tr>\n",
       "      <th>0</th>\n",
       "      <td>#61734</td>\n",
       "      <td>95</td>\n",
       "      <td>1</td>\n",
       "      <td>149.97</td>\n",
       "      <td>1</td>\n",
       "      <td>4</td>\n",
       "      <td>1</td>\n",
       "      <td>141</td>\n",
       "      <td>6</td>\n",
       "      <td>Platinum</td>\n",
       "    </tr>\n",
       "    <tr>\n",
       "      <th>1</th>\n",
       "      <td>#92122</td>\n",
       "      <td>73</td>\n",
       "      <td>1</td>\n",
       "      <td>87.99</td>\n",
       "      <td>1</td>\n",
       "      <td>4</td>\n",
       "      <td>1</td>\n",
       "      <td>141</td>\n",
       "      <td>6</td>\n",
       "      <td>Platinum</td>\n",
       "    </tr>\n",
       "    <tr>\n",
       "      <th>2</th>\n",
       "      <td>#92127</td>\n",
       "      <td>73</td>\n",
       "      <td>1</td>\n",
       "      <td>93.50</td>\n",
       "      <td>1</td>\n",
       "      <td>4</td>\n",
       "      <td>1</td>\n",
       "      <td>141</td>\n",
       "      <td>6</td>\n",
       "      <td>Platinum</td>\n",
       "    </tr>\n",
       "    <tr>\n",
       "      <th>3</th>\n",
       "      <td>#71106</td>\n",
       "      <td>33</td>\n",
       "      <td>1</td>\n",
       "      <td>119.98</td>\n",
       "      <td>1</td>\n",
       "      <td>4</td>\n",
       "      <td>1</td>\n",
       "      <td>141</td>\n",
       "      <td>6</td>\n",
       "      <td>Platinum</td>\n",
       "    </tr>\n",
       "    <tr>\n",
       "      <th>4</th>\n",
       "      <td>#82083</td>\n",
       "      <td>109</td>\n",
       "      <td>1</td>\n",
       "      <td>86.89</td>\n",
       "      <td>1</td>\n",
       "      <td>4</td>\n",
       "      <td>1</td>\n",
       "      <td>141</td>\n",
       "      <td>6</td>\n",
       "      <td>Platinum</td>\n",
       "    </tr>\n",
       "    <tr>\n",
       "      <th>...</th>\n",
       "      <td>...</td>\n",
       "      <td>...</td>\n",
       "      <td>...</td>\n",
       "      <td>...</td>\n",
       "      <td>...</td>\n",
       "      <td>...</td>\n",
       "      <td>...</td>\n",
       "      <td>...</td>\n",
       "      <td>...</td>\n",
       "      <td>...</td>\n",
       "    </tr>\n",
       "    <tr>\n",
       "      <th>95479</th>\n",
       "      <td>#22194</td>\n",
       "      <td>536</td>\n",
       "      <td>1</td>\n",
       "      <td>19.99</td>\n",
       "      <td>4</td>\n",
       "      <td>4</td>\n",
       "      <td>4</td>\n",
       "      <td>444</td>\n",
       "      <td>12</td>\n",
       "      <td>Bronze</td>\n",
       "    </tr>\n",
       "    <tr>\n",
       "      <th>95480</th>\n",
       "      <td>#22191</td>\n",
       "      <td>537</td>\n",
       "      <td>1</td>\n",
       "      <td>14.99</td>\n",
       "      <td>4</td>\n",
       "      <td>4</td>\n",
       "      <td>4</td>\n",
       "      <td>444</td>\n",
       "      <td>12</td>\n",
       "      <td>Bronze</td>\n",
       "    </tr>\n",
       "    <tr>\n",
       "      <th>95481</th>\n",
       "      <td>#8934</td>\n",
       "      <td>1206</td>\n",
       "      <td>1</td>\n",
       "      <td>21.99</td>\n",
       "      <td>4</td>\n",
       "      <td>4</td>\n",
       "      <td>4</td>\n",
       "      <td>444</td>\n",
       "      <td>12</td>\n",
       "      <td>Bronze</td>\n",
       "    </tr>\n",
       "    <tr>\n",
       "      <th>95482</th>\n",
       "      <td>#22178</td>\n",
       "      <td>537</td>\n",
       "      <td>1</td>\n",
       "      <td>19.99</td>\n",
       "      <td>4</td>\n",
       "      <td>4</td>\n",
       "      <td>4</td>\n",
       "      <td>444</td>\n",
       "      <td>12</td>\n",
       "      <td>Bronze</td>\n",
       "    </tr>\n",
       "    <tr>\n",
       "      <th>95483</th>\n",
       "      <td>#10000</td>\n",
       "      <td>1140</td>\n",
       "      <td>1</td>\n",
       "      <td>14.99</td>\n",
       "      <td>4</td>\n",
       "      <td>4</td>\n",
       "      <td>4</td>\n",
       "      <td>444</td>\n",
       "      <td>12</td>\n",
       "      <td>Bronze</td>\n",
       "    </tr>\n",
       "  </tbody>\n",
       "</table>\n",
       "<p>95484 rows × 10 columns</p>\n",
       "</div>"
      ],
      "text/plain": [
       "         Name  Recency  Frequency  Monetary  R  F  M RFMGroup  RFMScore  \\\n",
       "0      #61734       95          1    149.97  1  4  1      141         6   \n",
       "1      #92122       73          1     87.99  1  4  1      141         6   \n",
       "2      #92127       73          1     93.50  1  4  1      141         6   \n",
       "3      #71106       33          1    119.98  1  4  1      141         6   \n",
       "4      #82083      109          1     86.89  1  4  1      141         6   \n",
       "...       ...      ...        ...       ... .. .. ..      ...       ...   \n",
       "95479  #22194      536          1     19.99  4  4  4      444        12   \n",
       "95480  #22191      537          1     14.99  4  4  4      444        12   \n",
       "95481   #8934     1206          1     21.99  4  4  4      444        12   \n",
       "95482  #22178      537          1     19.99  4  4  4      444        12   \n",
       "95483  #10000     1140          1     14.99  4  4  4      444        12   \n",
       "\n",
       "      RFM_Loyalty_Level  \n",
       "0              Platinum  \n",
       "1              Platinum  \n",
       "2              Platinum  \n",
       "3              Platinum  \n",
       "4              Platinum  \n",
       "...                 ...  \n",
       "95479            Bronze  \n",
       "95480            Bronze  \n",
       "95481            Bronze  \n",
       "95482            Bronze  \n",
       "95483            Bronze  \n",
       "\n",
       "[95484 rows x 10 columns]"
      ]
     },
     "execution_count": 46,
     "metadata": {},
     "output_type": "execute_result"
    }
   ],
   "source": [
    "RFMScores.sort_values('RFMScore', ascending=True).reset_index()"
   ]
  },
  {
   "cell_type": "code",
   "execution_count": 47,
   "id": "9c8b2daa",
   "metadata": {},
   "outputs": [
    {
     "data": {
      "text/plain": [
       "<AxesSubplot:xlabel='RFM_Loyalty_Level', ylabel='RFMScore'>"
      ]
     },
     "execution_count": 47,
     "metadata": {},
     "output_type": "execute_result"
    },
    {
     "data": {
      "image/png": "[encoded data removed]",
      "text/plain": [
       "<Figure size 432x288 with 1 Axes>"
      ]
     },
     "metadata": {
      "needs_background": "light"
     },
     "output_type": "display_data"
    }
   ],
   "source": [
    "sns.barplot(x='RFM_Loyalty_Level',y='RFMScore',data=RFMScores)"
   ]
  },
  {
   "cell_type": "code",
   "execution_count": 48,
   "id": "bbc04701",
   "metadata": {},
   "outputs": [],
   "source": [
    "a=RFMScores['RFM_Loyalty_Level'].value_counts()"
   ]
  },
  {
   "cell_type": "code",
   "execution_count": 49,
   "id": "c41126cc",
   "metadata": {},
   "outputs": [
    {
     "data": {
      "image/png": "[encoded data removed]",
      "text/plain": [
       "<Figure size 432x288 with 1 Axes>"
      ]
     },
     "metadata": {},
     "output_type": "display_data"
    }
   ],
   "source": [
    "a.plot(kind='pie',radius=2,autopct='%1.1f%%',shadow=True,explode=(0.1, 0.1, 0.1, 0.1))\n",
    "plt.show()"
   ]
  },
  {
   "cell_type": "code",
   "execution_count": 50,
   "id": "bb48267f",
   "metadata": {},
   "outputs": [
    {
     "data": {
      "text/html": [
       "<div>\n",
       "<style scoped>\n",
       "    .dataframe tbody tr th:only-of-type {\n",
       "        vertical-align: middle;\n",
       "    }\n",
       "\n",
       "    .dataframe tbody tr th {\n",
       "        vertical-align: top;\n",
       "    }\n",
       "\n",
       "    .dataframe thead th {\n",
       "        text-align: right;\n",
       "    }\n",
       "</style>\n",
       "<table border=\"1\" class=\"dataframe\">\n",
       "  <thead>\n",
       "    <tr style=\"text-align: right;\">\n",
       "      <th></th>\n",
       "      <th>Recency</th>\n",
       "      <th>Frequency</th>\n",
       "      <th>Monetary</th>\n",
       "      <th>RFMScore</th>\n",
       "    </tr>\n",
       "    <tr>\n",
       "      <th>RFM_Loyalty_Level</th>\n",
       "      <th></th>\n",
       "      <th></th>\n",
       "      <th></th>\n",
       "      <th></th>\n",
       "    </tr>\n",
       "  </thead>\n",
       "  <tbody>\n",
       "    <tr>\n",
       "      <th>Platinum</th>\n",
       "      <td>162.449948</td>\n",
       "      <td>1.0</td>\n",
       "      <td>85.559847</td>\n",
       "      <td>7.410667</td>\n",
       "    </tr>\n",
       "    <tr>\n",
       "      <th>Gold</th>\n",
       "      <td>368.864042</td>\n",
       "      <td>1.0</td>\n",
       "      <td>63.572421</td>\n",
       "      <td>9.000000</td>\n",
       "    </tr>\n",
       "    <tr>\n",
       "      <th>Silver</th>\n",
       "      <td>519.955515</td>\n",
       "      <td>1.0</td>\n",
       "      <td>33.540085</td>\n",
       "      <td>10.000000</td>\n",
       "    </tr>\n",
       "    <tr>\n",
       "      <th>Bronze</th>\n",
       "      <td>843.498667</td>\n",
       "      <td>1.0</td>\n",
       "      <td>18.601347</td>\n",
       "      <td>11.480577</td>\n",
       "    </tr>\n",
       "  </tbody>\n",
       "</table>\n",
       "</div>"
      ],
      "text/plain": [
       "                      Recency  Frequency   Monetary   RFMScore\n",
       "RFM_Loyalty_Level                                             \n",
       "Platinum           162.449948        1.0  85.559847   7.410667\n",
       "Gold               368.864042        1.0  63.572421   9.000000\n",
       "Silver             519.955515        1.0  33.540085  10.000000\n",
       "Bronze             843.498667        1.0  18.601347  11.480577"
      ]
     },
     "execution_count": 50,
     "metadata": {},
     "output_type": "execute_result"
    }
   ],
   "source": [
    "behaviour = RFMScores.groupby('RFM_Loyalty_Level')[['Recency', 'Frequency', 'Monetary', 'RFMScore']].mean()\n",
    "behaviour"
   ]
  },
  {
   "cell_type": "markdown",
   "id": "7732c732",
   "metadata": {},
   "source": [
    "**Customer Behaviour and potential targeting techniques for each Loyalty Level**\n",
    "\n",
    "**Platinum**: People in this group are more frequent buyers with average days since the last purchase is 162. Also, their average sales value is 85.\n",
    "These are your most loyal customers, who bought recently, most often, and are heavy spenders. Reward these customers so that they can become an early adopter for your future products and help to promote your brand.\n",
    "\n",
    "\n",
    "**Gold**:This group is also high spenders with average sales of about 63. Offer membership or loyalty programs or recommend related products to upsell them and help them become your Platinum members.\n",
    "\n",
    "\n",
    "**Silver**: People in this group have made a transaction on the platform about 517 days ago. Their monetary values is 33.\n",
    "These are your customers who purchased a decent number of times and spent good amounts but haven’t purchased recently. Sending them personalized campaigns, offers, and product recommendations will help to reconnect with them.\n",
    "\n",
    "\n",
    "**Bronze**: This is the dormant group with average days since their last purchase is 843. Thier average sales is 245.\n",
    "These are customers who used to visit and purchase in your platform but haven’t been visiting recently. Bring them back with relevant promotions, and run surveys to find out what went wrong and avoid losing them to a competitor."
   ]
  },
  {
   "cell_type": "markdown",
   "id": "5001042b",
   "metadata": {},
   "source": [
    "      "
   ]
  }
 ],
 "metadata": {
  "kernelspec": {
   "display_name": "Python 3 (ipykernel)",
   "language": "python",
   "name": "python3"
  },
  "language_info": {
   "codemirror_mode": {
    "name": "ipython",
    "version": 3
   },
   "file_extension": ".py",
   "mimetype": "text/x-python",
   "name": "python",
   "nbconvert_exporter": "python",
   "pygments_lexer": "ipython3",
   "version": "3.9.7"
  }
 },
 "nbformat": 4,
 "nbformat_minor": 5
}
